{
 "cells": [
  {
   "cell_type": "markdown",
   "metadata": {},
   "source": [
    "# Loan Predictor"
   ]
  },
  {
   "cell_type": "markdown",
   "metadata": {},
   "source": [
    "For this project, I would use data from Kaggle regarding Loan Predicting on this link."
   ]
  },
  {
   "cell_type": "markdown",
   "metadata": {},
   "source": [
    "https://www.kaggle.com/chiragc/loan-defaulting-prediction"
   ]
  },
  {
   "cell_type": "markdown",
   "metadata": {},
   "source": [
    "<b> The data set includes information about:</b>\n",
    "\n",
    "- Customers's repayment behaviors for every month from July 2012 to November 2013 and their ID. \n",
    "- The default status will apply if the column value exceeds zero at least one month.\n",
    "- Customer personal information : how big their family size, how long they have studied, gender , age range, how long their careers are, what their birth date is, their province residence with the zipcodes, and their monthly expenses. \n",
    "- Customer account information – when they regist, what type of contract they are on, which group they are included, what type of history they have, adn how much their loan is."
   ]
  },
  {
   "cell_type": "markdown",
   "metadata": {},
   "source": [
    "<b> Coloumns Descriptions  </b>\n",
    "- user_id = Customer ID\n",
    "- month = Repayment date\n",
    "- registration_date = Date when customer regists for loan\n",
    "- years_of_study = How long they studied or educational experience (year)\n",
    "- family_size = How big their family is\n",
    "- loan_amount = How much the customer loan\n",
    "- total_career_years = How long their career (year)\n",
    "- birth_date = Customer's birth date\n",
    "- contract_type = Which type of contract the customer get\n",
    "- is_male = What the customer's gender type is, 1 is male (0 or 1)\n",
    "- province = Where customer's province is\n",
    "- zip_code = Ehat customer's zipcode residence\n",
    "- age = How old the customer is\n",
    "- group = Which group customer's included\n",
    "- history_type = What customer's history type is\n",
    "- monthly_expense = How much customer's expense for a month"
   ]
  },
  {
   "cell_type": "markdown",
   "metadata": {},
   "source": [
    "<b>There are 3 files:</b>\n",
    "- user_info.csv : user features\n",
    "- past_months.csv : repayment behavior of the same customer set\n",
    "- next_months.csv : repayment behavior of the same customer set"
   ]
  },
  {
   "cell_type": "markdown",
   "metadata": {},
   "source": [
    "<b>Goals :</b>\n",
    "- Searching the best modelling possible to predict loan default.\n",
    "- Looking for insight from explanable columns for upgrade the business"
   ]
  },
  {
   "cell_type": "markdown",
   "metadata": {},
   "source": [
    "## Pre processing"
   ]
  },
  {
   "cell_type": "markdown",
   "metadata": {},
   "source": [
    "> First, Let's import some common Libraries!"
   ]
  },
  {
   "cell_type": "code",
   "execution_count": 1,
   "metadata": {},
   "outputs": [],
   "source": [
    "import pandas as pd\n",
    "import numpy as np\n",
    "import matplotlib.pyplot as plt\n",
    "import seaborn as sns"
   ]
  },
  {
   "cell_type": "markdown",
   "metadata": {},
   "source": [
    "> Open 'past_months.csv' and Let's take a look at the data"
   ]
  },
  {
   "cell_type": "code",
   "execution_count": 2,
   "metadata": {
    "scrolled": false
   },
   "outputs": [
    {
     "data": {
      "text/html": [
       "<div>\n",
       "<style scoped>\n",
       "    .dataframe tbody tr th:only-of-type {\n",
       "        vertical-align: middle;\n",
       "    }\n",
       "\n",
       "    .dataframe tbody tr th {\n",
       "        vertical-align: top;\n",
       "    }\n",
       "\n",
       "    .dataframe thead th {\n",
       "        text-align: right;\n",
       "    }\n",
       "</style>\n",
       "<table border=\"1\" class=\"dataframe\">\n",
       "  <thead>\n",
       "    <tr style=\"text-align: right;\">\n",
       "      <th></th>\n",
       "      <th>month</th>\n",
       "      <th>default_value</th>\n",
       "      <th>user_id</th>\n",
       "    </tr>\n",
       "  </thead>\n",
       "  <tbody>\n",
       "    <tr>\n",
       "      <td>0</td>\n",
       "      <td>2012-12-01</td>\n",
       "      <td>0</td>\n",
       "      <td>821302</td>\n",
       "    </tr>\n",
       "    <tr>\n",
       "      <td>1</td>\n",
       "      <td>2012-11-01</td>\n",
       "      <td>0</td>\n",
       "      <td>821302</td>\n",
       "    </tr>\n",
       "    <tr>\n",
       "      <td>2</td>\n",
       "      <td>2012-10-01</td>\n",
       "      <td>0</td>\n",
       "      <td>821302</td>\n",
       "    </tr>\n",
       "    <tr>\n",
       "      <td>3</td>\n",
       "      <td>2012-09-01</td>\n",
       "      <td>0</td>\n",
       "      <td>821302</td>\n",
       "    </tr>\n",
       "    <tr>\n",
       "      <td>4</td>\n",
       "      <td>2012-08-01</td>\n",
       "      <td>0</td>\n",
       "      <td>821302</td>\n",
       "    </tr>\n",
       "  </tbody>\n",
       "</table>\n",
       "</div>"
      ],
      "text/plain": [
       "        month  default_value  user_id\n",
       "0  2012-12-01              0   821302\n",
       "1  2012-11-01              0   821302\n",
       "2  2012-10-01              0   821302\n",
       "3  2012-09-01              0   821302\n",
       "4  2012-08-01              0   821302"
      ]
     },
     "execution_count": 2,
     "metadata": {},
     "output_type": "execute_result"
    }
   ],
   "source": [
    "df_2012 = pd.read_csv('past_months.csv',index_col=0)\n",
    "df_2012.head()"
   ]
  },
  {
   "cell_type": "code",
   "execution_count": 3,
   "metadata": {
    "scrolled": true
   },
   "outputs": [
    {
     "name": "stdout",
     "output_type": "stream",
     "text": [
      "<class 'pandas.core.frame.DataFrame'>\n",
      "Int64Index: 769086 entries, 0 to 769085\n",
      "Data columns (total 3 columns):\n",
      "month            769086 non-null object\n",
      "default_value    769086 non-null int64\n",
      "user_id          769086 non-null int64\n",
      "dtypes: int64(2), object(1)\n",
      "memory usage: 23.5+ MB\n"
     ]
    }
   ],
   "source": [
    "df_2012.info()"
   ]
  },
  {
   "cell_type": "markdown",
   "metadata": {},
   "source": [
    "> The data is pretty good, has no null value. But, Let's rearrange it into dataframe which we can apply the loan default status. So, Create the data frame for every user's default value for every month."
   ]
  },
  {
   "cell_type": "code",
   "execution_count": 4,
   "metadata": {
    "scrolled": true
   },
   "outputs": [
    {
     "data": {
      "text/html": [
       "<div>\n",
       "<style scoped>\n",
       "    .dataframe tbody tr th:only-of-type {\n",
       "        vertical-align: middle;\n",
       "    }\n",
       "\n",
       "    .dataframe tbody tr th {\n",
       "        vertical-align: top;\n",
       "    }\n",
       "\n",
       "    .dataframe thead th {\n",
       "        text-align: right;\n",
       "    }\n",
       "</style>\n",
       "<table border=\"1\" class=\"dataframe\">\n",
       "  <thead>\n",
       "    <tr style=\"text-align: right;\">\n",
       "      <th></th>\n",
       "      <th>month</th>\n",
       "      <th>default_value</th>\n",
       "      <th>user_id</th>\n",
       "    </tr>\n",
       "  </thead>\n",
       "  <tbody>\n",
       "    <tr>\n",
       "      <td>0</td>\n",
       "      <td>12</td>\n",
       "      <td>0</td>\n",
       "      <td>821302</td>\n",
       "    </tr>\n",
       "    <tr>\n",
       "      <td>1</td>\n",
       "      <td>11</td>\n",
       "      <td>0</td>\n",
       "      <td>821302</td>\n",
       "    </tr>\n",
       "    <tr>\n",
       "      <td>2</td>\n",
       "      <td>10</td>\n",
       "      <td>0</td>\n",
       "      <td>821302</td>\n",
       "    </tr>\n",
       "    <tr>\n",
       "      <td>3</td>\n",
       "      <td>09</td>\n",
       "      <td>0</td>\n",
       "      <td>821302</td>\n",
       "    </tr>\n",
       "    <tr>\n",
       "      <td>4</td>\n",
       "      <td>08</td>\n",
       "      <td>0</td>\n",
       "      <td>821302</td>\n",
       "    </tr>\n",
       "  </tbody>\n",
       "</table>\n",
       "</div>"
      ],
      "text/plain": [
       "  month  default_value  user_id\n",
       "0    12              0   821302\n",
       "1    11              0   821302\n",
       "2    10              0   821302\n",
       "3    09              0   821302\n",
       "4    08              0   821302"
      ]
     },
     "execution_count": 4,
     "metadata": {},
     "output_type": "execute_result"
    }
   ],
   "source": [
    "df_2012['month'] = df_2012['month'].apply(lambda x : x.split('-')[1])\n",
    "df_2012.head()"
   ]
  },
  {
   "cell_type": "code",
   "execution_count": 5,
   "metadata": {},
   "outputs": [
    {
     "data": {
      "text/plain": [
       "array(['12', '11', '10', '09', '08', '07'], dtype=object)"
      ]
     },
     "execution_count": 5,
     "metadata": {},
     "output_type": "execute_result"
    }
   ],
   "source": [
    "df_2012['month'].unique()"
   ]
  },
  {
   "cell_type": "code",
   "execution_count": 6,
   "metadata": {},
   "outputs": [],
   "source": [
    "listdec,listnov,listoct,listsep,listaug,listjul = [],[],[],[],[],[]\n",
    "for i in df_2012.index:\n",
    "    if df_2012.loc[i,'month'] == '12':\n",
    "        listdec.append(df_2012.loc[i,'default_value'])\n",
    "    elif df_2012.loc[i,'month'] == '11':\n",
    "        listnov.append(df_2012.loc[i,'default_value'])\n",
    "    elif df_2012.loc[i,'month'] == '10':\n",
    "        listoct.append(df_2012.loc[i,'default_value'])\n",
    "    elif df_2012.loc[i,'month'] == '09':\n",
    "        listsep.append(df_2012.loc[i,'default_value'])\n",
    "    elif df_2012.loc[i,'month'] == '08':\n",
    "        listaug.append(df_2012.loc[i,'default_value'])\n",
    "    else:\n",
    "        listjul.append(df_2012.loc[i,'default_value'])"
   ]
  },
  {
   "cell_type": "code",
   "execution_count": 7,
   "metadata": {},
   "outputs": [
    {
     "data": {
      "text/html": [
       "<div>\n",
       "<style scoped>\n",
       "    .dataframe tbody tr th:only-of-type {\n",
       "        vertical-align: middle;\n",
       "    }\n",
       "\n",
       "    .dataframe tbody tr th {\n",
       "        vertical-align: top;\n",
       "    }\n",
       "\n",
       "    .dataframe thead th {\n",
       "        text-align: right;\n",
       "    }\n",
       "</style>\n",
       "<table border=\"1\" class=\"dataframe\">\n",
       "  <thead>\n",
       "    <tr style=\"text-align: right;\">\n",
       "      <th></th>\n",
       "      <th>user_id</th>\n",
       "      <th>Jul12</th>\n",
       "      <th>Aug12</th>\n",
       "      <th>Sep12</th>\n",
       "      <th>Oct12</th>\n",
       "      <th>Nov12</th>\n",
       "      <th>Dec12</th>\n",
       "    </tr>\n",
       "  </thead>\n",
       "  <tbody>\n",
       "    <tr>\n",
       "      <td>0</td>\n",
       "      <td>821302</td>\n",
       "      <td>0</td>\n",
       "      <td>0</td>\n",
       "      <td>0</td>\n",
       "      <td>0</td>\n",
       "      <td>0</td>\n",
       "      <td>0</td>\n",
       "    </tr>\n",
       "    <tr>\n",
       "      <td>1</td>\n",
       "      <td>821429</td>\n",
       "      <td>0</td>\n",
       "      <td>0</td>\n",
       "      <td>0</td>\n",
       "      <td>0</td>\n",
       "      <td>0</td>\n",
       "      <td>0</td>\n",
       "    </tr>\n",
       "    <tr>\n",
       "      <td>2</td>\n",
       "      <td>821637</td>\n",
       "      <td>0</td>\n",
       "      <td>0</td>\n",
       "      <td>0</td>\n",
       "      <td>0</td>\n",
       "      <td>0</td>\n",
       "      <td>0</td>\n",
       "    </tr>\n",
       "    <tr>\n",
       "      <td>3</td>\n",
       "      <td>827397</td>\n",
       "      <td>0</td>\n",
       "      <td>0</td>\n",
       "      <td>0</td>\n",
       "      <td>0</td>\n",
       "      <td>0</td>\n",
       "      <td>0</td>\n",
       "    </tr>\n",
       "    <tr>\n",
       "      <td>4</td>\n",
       "      <td>827555</td>\n",
       "      <td>0</td>\n",
       "      <td>0</td>\n",
       "      <td>0</td>\n",
       "      <td>0</td>\n",
       "      <td>0</td>\n",
       "      <td>0</td>\n",
       "    </tr>\n",
       "  </tbody>\n",
       "</table>\n",
       "</div>"
      ],
      "text/plain": [
       "   user_id  Jul12  Aug12  Sep12  Oct12  Nov12  Dec12\n",
       "0   821302      0      0      0      0      0      0\n",
       "1   821429      0      0      0      0      0      0\n",
       "2   821637      0      0      0      0      0      0\n",
       "3   827397      0      0      0      0      0      0\n",
       "4   827555      0      0      0      0      0      0"
      ]
     },
     "execution_count": 7,
     "metadata": {},
     "output_type": "execute_result"
    }
   ],
   "source": [
    "df_2012 = pd.DataFrame({\n",
    "    'user_id' : df_2012['user_id'].unique(),\n",
    "    'Jul12' : listjul,\n",
    "    'Aug12' : listaug,\n",
    "    'Sep12' : listsep,\n",
    "    'Oct12' : listoct,\n",
    "    'Nov12' : listnov,\n",
    "    'Dec12' : listdec\n",
    "})\n",
    "df_2012.head()"
   ]
  },
  {
   "cell_type": "markdown",
   "metadata": {},
   "source": [
    "> Okay, we have done it with the 'past_month.csv'. Let's do it again with 'next_month.csv'"
   ]
  },
  {
   "cell_type": "code",
   "execution_count": 8,
   "metadata": {
    "scrolled": true
   },
   "outputs": [
    {
     "name": "stderr",
     "output_type": "stream",
     "text": [
      "C:\\Users\\Alvin\\Anaconda3\\lib\\site-packages\\numpy\\lib\\arraysetops.py:569: FutureWarning: elementwise comparison failed; returning scalar instead, but in the future will perform elementwise comparison\n",
      "  mask |= (ar1 == a)\n"
     ]
    },
    {
     "data": {
      "text/html": [
       "<div>\n",
       "<style scoped>\n",
       "    .dataframe tbody tr th:only-of-type {\n",
       "        vertical-align: middle;\n",
       "    }\n",
       "\n",
       "    .dataframe tbody tr th {\n",
       "        vertical-align: top;\n",
       "    }\n",
       "\n",
       "    .dataframe thead th {\n",
       "        text-align: right;\n",
       "    }\n",
       "</style>\n",
       "<table border=\"1\" class=\"dataframe\">\n",
       "  <thead>\n",
       "    <tr style=\"text-align: right;\">\n",
       "      <th></th>\n",
       "      <th>month</th>\n",
       "      <th>default_value</th>\n",
       "      <th>user_id</th>\n",
       "    </tr>\n",
       "  </thead>\n",
       "  <tbody>\n",
       "    <tr>\n",
       "      <td>0</td>\n",
       "      <td>2013-11-01</td>\n",
       "      <td>0</td>\n",
       "      <td>821302</td>\n",
       "    </tr>\n",
       "    <tr>\n",
       "      <td>1</td>\n",
       "      <td>2013-10-01</td>\n",
       "      <td>0</td>\n",
       "      <td>821302</td>\n",
       "    </tr>\n",
       "    <tr>\n",
       "      <td>2</td>\n",
       "      <td>2013-09-01</td>\n",
       "      <td>0</td>\n",
       "      <td>821302</td>\n",
       "    </tr>\n",
       "    <tr>\n",
       "      <td>3</td>\n",
       "      <td>2013-08-01</td>\n",
       "      <td>0</td>\n",
       "      <td>821302</td>\n",
       "    </tr>\n",
       "    <tr>\n",
       "      <td>4</td>\n",
       "      <td>2013-07-01</td>\n",
       "      <td>0</td>\n",
       "      <td>821302</td>\n",
       "    </tr>\n",
       "  </tbody>\n",
       "</table>\n",
       "</div>"
      ],
      "text/plain": [
       "        month  default_value  user_id\n",
       "0  2013-11-01              0   821302\n",
       "1  2013-10-01              0   821302\n",
       "2  2013-09-01              0   821302\n",
       "3  2013-08-01              0   821302\n",
       "4  2013-07-01              0   821302"
      ]
     },
     "execution_count": 8,
     "metadata": {},
     "output_type": "execute_result"
    }
   ],
   "source": [
    "df_2013 = pd.read_csv('next_months.csv',index_col=0)\n",
    "df_2013.head()"
   ]
  },
  {
   "cell_type": "code",
   "execution_count": 9,
   "metadata": {},
   "outputs": [
    {
     "name": "stdout",
     "output_type": "stream",
     "text": [
      "<class 'pandas.core.frame.DataFrame'>\n",
      "Int64Index: 1048575 entries, 0 to 1048574\n",
      "Data columns (total 3 columns):\n",
      "month            1048575 non-null object\n",
      "default_value    1048575 non-null int64\n",
      "user_id          1048575 non-null int64\n",
      "dtypes: int64(2), object(1)\n",
      "memory usage: 32.0+ MB\n"
     ]
    }
   ],
   "source": [
    "df_2013.info()"
   ]
  },
  {
   "cell_type": "code",
   "execution_count": 10,
   "metadata": {},
   "outputs": [
    {
     "data": {
      "text/html": [
       "<div>\n",
       "<style scoped>\n",
       "    .dataframe tbody tr th:only-of-type {\n",
       "        vertical-align: middle;\n",
       "    }\n",
       "\n",
       "    .dataframe tbody tr th {\n",
       "        vertical-align: top;\n",
       "    }\n",
       "\n",
       "    .dataframe thead th {\n",
       "        text-align: right;\n",
       "    }\n",
       "</style>\n",
       "<table border=\"1\" class=\"dataframe\">\n",
       "  <thead>\n",
       "    <tr style=\"text-align: right;\">\n",
       "      <th></th>\n",
       "      <th>month</th>\n",
       "      <th>default_value</th>\n",
       "      <th>user_id</th>\n",
       "    </tr>\n",
       "  </thead>\n",
       "  <tbody>\n",
       "    <tr>\n",
       "      <td>0</td>\n",
       "      <td>11</td>\n",
       "      <td>0</td>\n",
       "      <td>821302</td>\n",
       "    </tr>\n",
       "    <tr>\n",
       "      <td>1</td>\n",
       "      <td>10</td>\n",
       "      <td>0</td>\n",
       "      <td>821302</td>\n",
       "    </tr>\n",
       "    <tr>\n",
       "      <td>2</td>\n",
       "      <td>09</td>\n",
       "      <td>0</td>\n",
       "      <td>821302</td>\n",
       "    </tr>\n",
       "    <tr>\n",
       "      <td>3</td>\n",
       "      <td>08</td>\n",
       "      <td>0</td>\n",
       "      <td>821302</td>\n",
       "    </tr>\n",
       "    <tr>\n",
       "      <td>4</td>\n",
       "      <td>07</td>\n",
       "      <td>0</td>\n",
       "      <td>821302</td>\n",
       "    </tr>\n",
       "  </tbody>\n",
       "</table>\n",
       "</div>"
      ],
      "text/plain": [
       "  month  default_value  user_id\n",
       "0    11              0   821302\n",
       "1    10              0   821302\n",
       "2    09              0   821302\n",
       "3    08              0   821302\n",
       "4    07              0   821302"
      ]
     },
     "execution_count": 10,
     "metadata": {},
     "output_type": "execute_result"
    }
   ],
   "source": [
    "df_2013['month'] = df_2013['month'].apply(lambda x : x.split('-')[1])\n",
    "df_2013.head()"
   ]
  },
  {
   "cell_type": "code",
   "execution_count": 11,
   "metadata": {},
   "outputs": [
    {
     "data": {
      "text/plain": [
       "array(['11', '10', '09', '08', '07', '06', '05', '04', '03', '02', '01'],\n",
       "      dtype=object)"
      ]
     },
     "execution_count": 11,
     "metadata": {},
     "output_type": "execute_result"
    }
   ],
   "source": [
    "df_2013['month'].unique()"
   ]
  },
  {
   "cell_type": "code",
   "execution_count": 12,
   "metadata": {},
   "outputs": [],
   "source": [
    "listnov,listoct,listsep,listaug,listjul,listjun,listmay,listapr,listmar,listfeb,listjan = [],[],[],[],[],[],[],[],[],[],[]\n",
    "for i in df_2013.index:\n",
    "    if df_2013.loc[i,'month'] == '11':\n",
    "        listnov.append(df_2013.loc[i,'default_value'])\n",
    "    elif df_2013.loc[i,'month'] == '10':\n",
    "        listoct.append(df_2013.loc[i,'default_value'])\n",
    "    elif df_2013.loc[i,'month'] == '09':\n",
    "        listsep.append(df_2013.loc[i,'default_value'])\n",
    "    elif df_2013.loc[i,'month'] == '08':\n",
    "        listaug.append(df_2013.loc[i,'default_value'])\n",
    "    elif df_2013.loc[i,'month'] == '07':\n",
    "        listjul.append(df_2013.loc[i,'default_value'])\n",
    "    elif df_2013.loc[i,'month'] == '06':\n",
    "        listjun.append(df_2013.loc[i,'default_value'])\n",
    "    elif df_2013.loc[i,'month'] == '05':\n",
    "        listmay.append(df_2013.loc[i,'default_value'])\n",
    "    elif df_2013.loc[i,'month'] == '04':\n",
    "        listapr.append(df_2013.loc[i,'default_value'])\n",
    "    elif df_2013.loc[i,'month'] == '03':\n",
    "        listmar.append(df_2013.loc[i,'default_value'])\n",
    "    elif df_2013.loc[i,'month'] == '02':\n",
    "        listfeb.append(df_2013.loc[i,'default_value'])\n",
    "    else:\n",
    "        listjan.append(df_2013.loc[i,'default_value'])"
   ]
  },
  {
   "cell_type": "code",
   "execution_count": 13,
   "metadata": {},
   "outputs": [
    {
     "data": {
      "text/html": [
       "<div>\n",
       "<style scoped>\n",
       "    .dataframe tbody tr th:only-of-type {\n",
       "        vertical-align: middle;\n",
       "    }\n",
       "\n",
       "    .dataframe tbody tr th {\n",
       "        vertical-align: top;\n",
       "    }\n",
       "\n",
       "    .dataframe thead th {\n",
       "        text-align: right;\n",
       "    }\n",
       "</style>\n",
       "<table border=\"1\" class=\"dataframe\">\n",
       "  <thead>\n",
       "    <tr style=\"text-align: right;\">\n",
       "      <th></th>\n",
       "      <th>user_id</th>\n",
       "      <th>Jan13</th>\n",
       "      <th>Feb13</th>\n",
       "      <th>Mar13</th>\n",
       "      <th>Apr13</th>\n",
       "      <th>May13</th>\n",
       "      <th>Jun13</th>\n",
       "      <th>Jul13</th>\n",
       "      <th>Aug13</th>\n",
       "      <th>Sep13</th>\n",
       "      <th>Oct13</th>\n",
       "      <th>Nov13</th>\n",
       "    </tr>\n",
       "  </thead>\n",
       "  <tbody>\n",
       "    <tr>\n",
       "      <td>0</td>\n",
       "      <td>821302</td>\n",
       "      <td>0</td>\n",
       "      <td>0</td>\n",
       "      <td>0</td>\n",
       "      <td>0</td>\n",
       "      <td>0</td>\n",
       "      <td>0</td>\n",
       "      <td>0</td>\n",
       "      <td>0</td>\n",
       "      <td>0</td>\n",
       "      <td>0</td>\n",
       "      <td>0</td>\n",
       "    </tr>\n",
       "    <tr>\n",
       "      <td>1</td>\n",
       "      <td>821429</td>\n",
       "      <td>0</td>\n",
       "      <td>0</td>\n",
       "      <td>0</td>\n",
       "      <td>0</td>\n",
       "      <td>0</td>\n",
       "      <td>0</td>\n",
       "      <td>0</td>\n",
       "      <td>0</td>\n",
       "      <td>0</td>\n",
       "      <td>0</td>\n",
       "      <td>0</td>\n",
       "    </tr>\n",
       "    <tr>\n",
       "      <td>2</td>\n",
       "      <td>821637</td>\n",
       "      <td>0</td>\n",
       "      <td>0</td>\n",
       "      <td>0</td>\n",
       "      <td>0</td>\n",
       "      <td>0</td>\n",
       "      <td>0</td>\n",
       "      <td>0</td>\n",
       "      <td>0</td>\n",
       "      <td>0</td>\n",
       "      <td>0</td>\n",
       "      <td>0</td>\n",
       "    </tr>\n",
       "    <tr>\n",
       "      <td>3</td>\n",
       "      <td>827397</td>\n",
       "      <td>0</td>\n",
       "      <td>0</td>\n",
       "      <td>0</td>\n",
       "      <td>0</td>\n",
       "      <td>0</td>\n",
       "      <td>0</td>\n",
       "      <td>0</td>\n",
       "      <td>0</td>\n",
       "      <td>0</td>\n",
       "      <td>0</td>\n",
       "      <td>0</td>\n",
       "    </tr>\n",
       "    <tr>\n",
       "      <td>4</td>\n",
       "      <td>827555</td>\n",
       "      <td>0</td>\n",
       "      <td>0</td>\n",
       "      <td>0</td>\n",
       "      <td>0</td>\n",
       "      <td>0</td>\n",
       "      <td>0</td>\n",
       "      <td>0</td>\n",
       "      <td>0</td>\n",
       "      <td>0</td>\n",
       "      <td>0</td>\n",
       "      <td>0</td>\n",
       "    </tr>\n",
       "  </tbody>\n",
       "</table>\n",
       "</div>"
      ],
      "text/plain": [
       "   user_id  Jan13  Feb13  Mar13  Apr13  May13  Jun13  Jul13  Aug13  Sep13  \\\n",
       "0   821302      0      0      0      0      0      0      0      0      0   \n",
       "1   821429      0      0      0      0      0      0      0      0      0   \n",
       "2   821637      0      0      0      0      0      0      0      0      0   \n",
       "3   827397      0      0      0      0      0      0      0      0      0   \n",
       "4   827555      0      0      0      0      0      0      0      0      0   \n",
       "\n",
       "   Oct13  Nov13  \n",
       "0      0      0  \n",
       "1      0      0  \n",
       "2      0      0  \n",
       "3      0      0  \n",
       "4      0      0  "
      ]
     },
     "execution_count": 13,
     "metadata": {},
     "output_type": "execute_result"
    }
   ],
   "source": [
    "df_2013 = pd.DataFrame({\n",
    "    'user_id' : df_2013['user_id'].unique(),\n",
    "    'Jan13' : listjan,\n",
    "    'Feb13' : listfeb,\n",
    "    'Mar13' : listmar,\n",
    "    'Apr13' : listapr,\n",
    "    'May13' : listmay,\n",
    "    'Jun13' : listjun,\n",
    "    'Jul13' : listjul,\n",
    "    'Aug13' : listaug,\n",
    "    'Sep13' : listsep,\n",
    "    'Oct13' : listoct,\n",
    "    'Nov13' : listnov\n",
    "})\n",
    "df_2013.head()"
   ]
  },
  {
   "cell_type": "markdown",
   "metadata": {},
   "source": [
    "> Okay, we have done for both csv. Next, Let's Merge them!"
   ]
  },
  {
   "cell_type": "code",
   "execution_count": 14,
   "metadata": {},
   "outputs": [
    {
     "data": {
      "text/html": [
       "<div>\n",
       "<style scoped>\n",
       "    .dataframe tbody tr th:only-of-type {\n",
       "        vertical-align: middle;\n",
       "    }\n",
       "\n",
       "    .dataframe tbody tr th {\n",
       "        vertical-align: top;\n",
       "    }\n",
       "\n",
       "    .dataframe thead th {\n",
       "        text-align: right;\n",
       "    }\n",
       "</style>\n",
       "<table border=\"1\" class=\"dataframe\">\n",
       "  <thead>\n",
       "    <tr style=\"text-align: right;\">\n",
       "      <th></th>\n",
       "      <th>user_id</th>\n",
       "      <th>Jul12</th>\n",
       "      <th>Aug12</th>\n",
       "      <th>Sep12</th>\n",
       "      <th>Oct12</th>\n",
       "      <th>Nov12</th>\n",
       "      <th>Dec12</th>\n",
       "      <th>Jan13</th>\n",
       "      <th>Feb13</th>\n",
       "      <th>Mar13</th>\n",
       "      <th>Apr13</th>\n",
       "      <th>May13</th>\n",
       "      <th>Jun13</th>\n",
       "      <th>Jul13</th>\n",
       "      <th>Aug13</th>\n",
       "      <th>Sep13</th>\n",
       "      <th>Oct13</th>\n",
       "      <th>Nov13</th>\n",
       "    </tr>\n",
       "  </thead>\n",
       "  <tbody>\n",
       "    <tr>\n",
       "      <td>0</td>\n",
       "      <td>821302</td>\n",
       "      <td>0</td>\n",
       "      <td>0</td>\n",
       "      <td>0</td>\n",
       "      <td>0</td>\n",
       "      <td>0</td>\n",
       "      <td>0</td>\n",
       "      <td>0</td>\n",
       "      <td>0</td>\n",
       "      <td>0</td>\n",
       "      <td>0</td>\n",
       "      <td>0</td>\n",
       "      <td>0</td>\n",
       "      <td>0</td>\n",
       "      <td>0</td>\n",
       "      <td>0</td>\n",
       "      <td>0</td>\n",
       "      <td>0</td>\n",
       "    </tr>\n",
       "    <tr>\n",
       "      <td>1</td>\n",
       "      <td>821429</td>\n",
       "      <td>0</td>\n",
       "      <td>0</td>\n",
       "      <td>0</td>\n",
       "      <td>0</td>\n",
       "      <td>0</td>\n",
       "      <td>0</td>\n",
       "      <td>0</td>\n",
       "      <td>0</td>\n",
       "      <td>0</td>\n",
       "      <td>0</td>\n",
       "      <td>0</td>\n",
       "      <td>0</td>\n",
       "      <td>0</td>\n",
       "      <td>0</td>\n",
       "      <td>0</td>\n",
       "      <td>0</td>\n",
       "      <td>0</td>\n",
       "    </tr>\n",
       "    <tr>\n",
       "      <td>2</td>\n",
       "      <td>821637</td>\n",
       "      <td>0</td>\n",
       "      <td>0</td>\n",
       "      <td>0</td>\n",
       "      <td>0</td>\n",
       "      <td>0</td>\n",
       "      <td>0</td>\n",
       "      <td>0</td>\n",
       "      <td>0</td>\n",
       "      <td>0</td>\n",
       "      <td>0</td>\n",
       "      <td>0</td>\n",
       "      <td>0</td>\n",
       "      <td>0</td>\n",
       "      <td>0</td>\n",
       "      <td>0</td>\n",
       "      <td>0</td>\n",
       "      <td>0</td>\n",
       "    </tr>\n",
       "    <tr>\n",
       "      <td>3</td>\n",
       "      <td>827397</td>\n",
       "      <td>0</td>\n",
       "      <td>0</td>\n",
       "      <td>0</td>\n",
       "      <td>0</td>\n",
       "      <td>0</td>\n",
       "      <td>0</td>\n",
       "      <td>0</td>\n",
       "      <td>0</td>\n",
       "      <td>0</td>\n",
       "      <td>0</td>\n",
       "      <td>0</td>\n",
       "      <td>0</td>\n",
       "      <td>0</td>\n",
       "      <td>0</td>\n",
       "      <td>0</td>\n",
       "      <td>0</td>\n",
       "      <td>0</td>\n",
       "    </tr>\n",
       "    <tr>\n",
       "      <td>4</td>\n",
       "      <td>827555</td>\n",
       "      <td>0</td>\n",
       "      <td>0</td>\n",
       "      <td>0</td>\n",
       "      <td>0</td>\n",
       "      <td>0</td>\n",
       "      <td>0</td>\n",
       "      <td>0</td>\n",
       "      <td>0</td>\n",
       "      <td>0</td>\n",
       "      <td>0</td>\n",
       "      <td>0</td>\n",
       "      <td>0</td>\n",
       "      <td>0</td>\n",
       "      <td>0</td>\n",
       "      <td>0</td>\n",
       "      <td>0</td>\n",
       "      <td>0</td>\n",
       "    </tr>\n",
       "  </tbody>\n",
       "</table>\n",
       "</div>"
      ],
      "text/plain": [
       "   user_id  Jul12  Aug12  Sep12  Oct12  Nov12  Dec12  Jan13  Feb13  Mar13  \\\n",
       "0   821302      0      0      0      0      0      0      0      0      0   \n",
       "1   821429      0      0      0      0      0      0      0      0      0   \n",
       "2   821637      0      0      0      0      0      0      0      0      0   \n",
       "3   827397      0      0      0      0      0      0      0      0      0   \n",
       "4   827555      0      0      0      0      0      0      0      0      0   \n",
       "\n",
       "   Apr13  May13  Jun13  Jul13  Aug13  Sep13  Oct13  Nov13  \n",
       "0      0      0      0      0      0      0      0      0  \n",
       "1      0      0      0      0      0      0      0      0  \n",
       "2      0      0      0      0      0      0      0      0  \n",
       "3      0      0      0      0      0      0      0      0  \n",
       "4      0      0      0      0      0      0      0      0  "
      ]
     },
     "execution_count": 14,
     "metadata": {},
     "output_type": "execute_result"
    }
   ],
   "source": [
    "df_loans = pd.merge(df_2012, df_2013, on='user_id')\n",
    "df_loans.head()"
   ]
  },
  {
   "cell_type": "code",
   "execution_count": 15,
   "metadata": {},
   "outputs": [
    {
     "name": "stdout",
     "output_type": "stream",
     "text": [
      "<class 'pandas.core.frame.DataFrame'>\n",
      "Int64Index: 95325 entries, 0 to 95324\n",
      "Data columns (total 18 columns):\n",
      "user_id    95325 non-null int64\n",
      "Jul12      95325 non-null int64\n",
      "Aug12      95325 non-null int64\n",
      "Sep12      95325 non-null int64\n",
      "Oct12      95325 non-null int64\n",
      "Nov12      95325 non-null int64\n",
      "Dec12      95325 non-null int64\n",
      "Jan13      95325 non-null int64\n",
      "Feb13      95325 non-null int64\n",
      "Mar13      95325 non-null int64\n",
      "Apr13      95325 non-null int64\n",
      "May13      95325 non-null int64\n",
      "Jun13      95325 non-null int64\n",
      "Jul13      95325 non-null int64\n",
      "Aug13      95325 non-null int64\n",
      "Sep13      95325 non-null int64\n",
      "Oct13      95325 non-null int64\n",
      "Nov13      95325 non-null int64\n",
      "dtypes: int64(18)\n",
      "memory usage: 13.8 MB\n"
     ]
    }
   ],
   "source": [
    "df_loans.info()"
   ]
  },
  {
   "cell_type": "code",
   "execution_count": 16,
   "metadata": {
    "scrolled": true
   },
   "outputs": [
    {
     "data": {
      "text/html": [
       "<div>\n",
       "<style scoped>\n",
       "    .dataframe tbody tr th:only-of-type {\n",
       "        vertical-align: middle;\n",
       "    }\n",
       "\n",
       "    .dataframe tbody tr th {\n",
       "        vertical-align: top;\n",
       "    }\n",
       "\n",
       "    .dataframe thead th {\n",
       "        text-align: right;\n",
       "    }\n",
       "</style>\n",
       "<table border=\"1\" class=\"dataframe\">\n",
       "  <thead>\n",
       "    <tr style=\"text-align: right;\">\n",
       "      <th></th>\n",
       "      <th>user_id</th>\n",
       "      <th>Jul12</th>\n",
       "      <th>Aug12</th>\n",
       "      <th>Sep12</th>\n",
       "      <th>Oct12</th>\n",
       "      <th>Nov12</th>\n",
       "      <th>Dec12</th>\n",
       "      <th>Jan13</th>\n",
       "      <th>Feb13</th>\n",
       "      <th>Mar13</th>\n",
       "      <th>Apr13</th>\n",
       "      <th>May13</th>\n",
       "      <th>Jun13</th>\n",
       "      <th>Jul13</th>\n",
       "      <th>Aug13</th>\n",
       "      <th>Sep13</th>\n",
       "      <th>Oct13</th>\n",
       "      <th>Nov13</th>\n",
       "    </tr>\n",
       "  </thead>\n",
       "  <tbody>\n",
       "    <tr>\n",
       "      <td>count</td>\n",
       "      <td>9.532500e+04</td>\n",
       "      <td>95325.000000</td>\n",
       "      <td>95325.000000</td>\n",
       "      <td>95325.000000</td>\n",
       "      <td>95325.000000</td>\n",
       "      <td>95325.000000</td>\n",
       "      <td>95325.000000</td>\n",
       "      <td>95325.000000</td>\n",
       "      <td>95325.000000</td>\n",
       "      <td>95325.000000</td>\n",
       "      <td>95325.000000</td>\n",
       "      <td>95325.000000</td>\n",
       "      <td>95325.000000</td>\n",
       "      <td>95325.000000</td>\n",
       "      <td>95325.000000</td>\n",
       "      <td>95325.000000</td>\n",
       "      <td>95325.000000</td>\n",
       "      <td>95325.000000</td>\n",
       "    </tr>\n",
       "    <tr>\n",
       "      <td>mean</td>\n",
       "      <td>9.330802e+05</td>\n",
       "      <td>0.062502</td>\n",
       "      <td>0.090648</td>\n",
       "      <td>0.120535</td>\n",
       "      <td>0.163934</td>\n",
       "      <td>0.274251</td>\n",
       "      <td>0.317314</td>\n",
       "      <td>0.351755</td>\n",
       "      <td>0.390454</td>\n",
       "      <td>0.420121</td>\n",
       "      <td>0.476140</td>\n",
       "      <td>0.523263</td>\n",
       "      <td>0.567669</td>\n",
       "      <td>0.606840</td>\n",
       "      <td>0.655117</td>\n",
       "      <td>0.709824</td>\n",
       "      <td>0.774393</td>\n",
       "      <td>0.830999</td>\n",
       "    </tr>\n",
       "    <tr>\n",
       "      <td>std</td>\n",
       "      <td>7.846090e+04</td>\n",
       "      <td>0.344539</td>\n",
       "      <td>0.435723</td>\n",
       "      <td>0.531093</td>\n",
       "      <td>0.648391</td>\n",
       "      <td>0.811483</td>\n",
       "      <td>0.947479</td>\n",
       "      <td>1.061979</td>\n",
       "      <td>1.183002</td>\n",
       "      <td>1.294199</td>\n",
       "      <td>1.438605</td>\n",
       "      <td>1.577345</td>\n",
       "      <td>1.714313</td>\n",
       "      <td>1.853532</td>\n",
       "      <td>2.006106</td>\n",
       "      <td>2.152524</td>\n",
       "      <td>2.318648</td>\n",
       "      <td>2.473440</td>\n",
       "    </tr>\n",
       "    <tr>\n",
       "      <td>min</td>\n",
       "      <td>7.964690e+05</td>\n",
       "      <td>0.000000</td>\n",
       "      <td>0.000000</td>\n",
       "      <td>0.000000</td>\n",
       "      <td>0.000000</td>\n",
       "      <td>0.000000</td>\n",
       "      <td>0.000000</td>\n",
       "      <td>0.000000</td>\n",
       "      <td>0.000000</td>\n",
       "      <td>0.000000</td>\n",
       "      <td>0.000000</td>\n",
       "      <td>0.000000</td>\n",
       "      <td>0.000000</td>\n",
       "      <td>0.000000</td>\n",
       "      <td>0.000000</td>\n",
       "      <td>0.000000</td>\n",
       "      <td>0.000000</td>\n",
       "      <td>0.000000</td>\n",
       "    </tr>\n",
       "    <tr>\n",
       "      <td>25%</td>\n",
       "      <td>8.643960e+05</td>\n",
       "      <td>0.000000</td>\n",
       "      <td>0.000000</td>\n",
       "      <td>0.000000</td>\n",
       "      <td>0.000000</td>\n",
       "      <td>0.000000</td>\n",
       "      <td>0.000000</td>\n",
       "      <td>0.000000</td>\n",
       "      <td>0.000000</td>\n",
       "      <td>0.000000</td>\n",
       "      <td>0.000000</td>\n",
       "      <td>0.000000</td>\n",
       "      <td>0.000000</td>\n",
       "      <td>0.000000</td>\n",
       "      <td>0.000000</td>\n",
       "      <td>0.000000</td>\n",
       "      <td>0.000000</td>\n",
       "      <td>0.000000</td>\n",
       "    </tr>\n",
       "    <tr>\n",
       "      <td>50%</td>\n",
       "      <td>9.361450e+05</td>\n",
       "      <td>0.000000</td>\n",
       "      <td>0.000000</td>\n",
       "      <td>0.000000</td>\n",
       "      <td>0.000000</td>\n",
       "      <td>0.000000</td>\n",
       "      <td>0.000000</td>\n",
       "      <td>0.000000</td>\n",
       "      <td>0.000000</td>\n",
       "      <td>0.000000</td>\n",
       "      <td>0.000000</td>\n",
       "      <td>0.000000</td>\n",
       "      <td>0.000000</td>\n",
       "      <td>0.000000</td>\n",
       "      <td>0.000000</td>\n",
       "      <td>0.000000</td>\n",
       "      <td>0.000000</td>\n",
       "      <td>0.000000</td>\n",
       "    </tr>\n",
       "    <tr>\n",
       "      <td>75%</td>\n",
       "      <td>1.000990e+06</td>\n",
       "      <td>0.000000</td>\n",
       "      <td>0.000000</td>\n",
       "      <td>0.000000</td>\n",
       "      <td>0.000000</td>\n",
       "      <td>0.000000</td>\n",
       "      <td>0.000000</td>\n",
       "      <td>0.000000</td>\n",
       "      <td>0.000000</td>\n",
       "      <td>0.000000</td>\n",
       "      <td>0.000000</td>\n",
       "      <td>0.000000</td>\n",
       "      <td>0.000000</td>\n",
       "      <td>0.000000</td>\n",
       "      <td>0.000000</td>\n",
       "      <td>0.000000</td>\n",
       "      <td>0.000000</td>\n",
       "      <td>0.000000</td>\n",
       "    </tr>\n",
       "    <tr>\n",
       "      <td>max</td>\n",
       "      <td>1.067233e+06</td>\n",
       "      <td>6.000000</td>\n",
       "      <td>7.000000</td>\n",
       "      <td>8.000000</td>\n",
       "      <td>9.000000</td>\n",
       "      <td>10.000000</td>\n",
       "      <td>11.000000</td>\n",
       "      <td>12.000000</td>\n",
       "      <td>13.000000</td>\n",
       "      <td>14.000000</td>\n",
       "      <td>15.000000</td>\n",
       "      <td>16.000000</td>\n",
       "      <td>17.000000</td>\n",
       "      <td>18.000000</td>\n",
       "      <td>19.000000</td>\n",
       "      <td>20.000000</td>\n",
       "      <td>22.000000</td>\n",
       "      <td>23.000000</td>\n",
       "    </tr>\n",
       "  </tbody>\n",
       "</table>\n",
       "</div>"
      ],
      "text/plain": [
       "            user_id         Jul12         Aug12         Sep12         Oct12  \\\n",
       "count  9.532500e+04  95325.000000  95325.000000  95325.000000  95325.000000   \n",
       "mean   9.330802e+05      0.062502      0.090648      0.120535      0.163934   \n",
       "std    7.846090e+04      0.344539      0.435723      0.531093      0.648391   \n",
       "min    7.964690e+05      0.000000      0.000000      0.000000      0.000000   \n",
       "25%    8.643960e+05      0.000000      0.000000      0.000000      0.000000   \n",
       "50%    9.361450e+05      0.000000      0.000000      0.000000      0.000000   \n",
       "75%    1.000990e+06      0.000000      0.000000      0.000000      0.000000   \n",
       "max    1.067233e+06      6.000000      7.000000      8.000000      9.000000   \n",
       "\n",
       "              Nov12         Dec12         Jan13         Feb13         Mar13  \\\n",
       "count  95325.000000  95325.000000  95325.000000  95325.000000  95325.000000   \n",
       "mean       0.274251      0.317314      0.351755      0.390454      0.420121   \n",
       "std        0.811483      0.947479      1.061979      1.183002      1.294199   \n",
       "min        0.000000      0.000000      0.000000      0.000000      0.000000   \n",
       "25%        0.000000      0.000000      0.000000      0.000000      0.000000   \n",
       "50%        0.000000      0.000000      0.000000      0.000000      0.000000   \n",
       "75%        0.000000      0.000000      0.000000      0.000000      0.000000   \n",
       "max       10.000000     11.000000     12.000000     13.000000     14.000000   \n",
       "\n",
       "              Apr13         May13         Jun13         Jul13         Aug13  \\\n",
       "count  95325.000000  95325.000000  95325.000000  95325.000000  95325.000000   \n",
       "mean       0.476140      0.523263      0.567669      0.606840      0.655117   \n",
       "std        1.438605      1.577345      1.714313      1.853532      2.006106   \n",
       "min        0.000000      0.000000      0.000000      0.000000      0.000000   \n",
       "25%        0.000000      0.000000      0.000000      0.000000      0.000000   \n",
       "50%        0.000000      0.000000      0.000000      0.000000      0.000000   \n",
       "75%        0.000000      0.000000      0.000000      0.000000      0.000000   \n",
       "max       15.000000     16.000000     17.000000     18.000000     19.000000   \n",
       "\n",
       "              Sep13         Oct13         Nov13  \n",
       "count  95325.000000  95325.000000  95325.000000  \n",
       "mean       0.709824      0.774393      0.830999  \n",
       "std        2.152524      2.318648      2.473440  \n",
       "min        0.000000      0.000000      0.000000  \n",
       "25%        0.000000      0.000000      0.000000  \n",
       "50%        0.000000      0.000000      0.000000  \n",
       "75%        0.000000      0.000000      0.000000  \n",
       "max       20.000000     22.000000     23.000000  "
      ]
     },
     "execution_count": 16,
     "metadata": {},
     "output_type": "execute_result"
    }
   ],
   "source": [
    "df_loans.describe()"
   ]
  },
  {
   "cell_type": "markdown",
   "metadata": {},
   "source": [
    ">  Remember \"The default status will apply if the column value exceeds zero at least one month\"! So let's sum default value for each month and if the value exceeds zero, arrage their status into 'Default'!"
   ]
  },
  {
   "cell_type": "code",
   "execution_count": 17,
   "metadata": {},
   "outputs": [],
   "source": [
    "df_loans['Status'] = df_loans.drop('user_id',axis=1).sum(axis=1)\n",
    "df_loans['Status'] = df_loans['Status'].apply(lambda x : 0 if x==0 else 1)"
   ]
  },
  {
   "cell_type": "code",
   "execution_count": 18,
   "metadata": {},
   "outputs": [
    {
     "data": {
      "text/html": [
       "<div>\n",
       "<style scoped>\n",
       "    .dataframe tbody tr th:only-of-type {\n",
       "        vertical-align: middle;\n",
       "    }\n",
       "\n",
       "    .dataframe tbody tr th {\n",
       "        vertical-align: top;\n",
       "    }\n",
       "\n",
       "    .dataframe thead th {\n",
       "        text-align: right;\n",
       "    }\n",
       "</style>\n",
       "<table border=\"1\" class=\"dataframe\">\n",
       "  <thead>\n",
       "    <tr style=\"text-align: right;\">\n",
       "      <th></th>\n",
       "      <th>user_id</th>\n",
       "      <th>Jul12</th>\n",
       "      <th>Aug12</th>\n",
       "      <th>Sep12</th>\n",
       "      <th>Oct12</th>\n",
       "      <th>Nov12</th>\n",
       "      <th>Dec12</th>\n",
       "      <th>Jan13</th>\n",
       "      <th>Feb13</th>\n",
       "      <th>Mar13</th>\n",
       "      <th>Apr13</th>\n",
       "      <th>May13</th>\n",
       "      <th>Jun13</th>\n",
       "      <th>Jul13</th>\n",
       "      <th>Aug13</th>\n",
       "      <th>Sep13</th>\n",
       "      <th>Oct13</th>\n",
       "      <th>Nov13</th>\n",
       "      <th>Status</th>\n",
       "    </tr>\n",
       "  </thead>\n",
       "  <tbody>\n",
       "    <tr>\n",
       "      <td>0</td>\n",
       "      <td>821302</td>\n",
       "      <td>0</td>\n",
       "      <td>0</td>\n",
       "      <td>0</td>\n",
       "      <td>0</td>\n",
       "      <td>0</td>\n",
       "      <td>0</td>\n",
       "      <td>0</td>\n",
       "      <td>0</td>\n",
       "      <td>0</td>\n",
       "      <td>0</td>\n",
       "      <td>0</td>\n",
       "      <td>0</td>\n",
       "      <td>0</td>\n",
       "      <td>0</td>\n",
       "      <td>0</td>\n",
       "      <td>0</td>\n",
       "      <td>0</td>\n",
       "      <td>0</td>\n",
       "    </tr>\n",
       "    <tr>\n",
       "      <td>1</td>\n",
       "      <td>821429</td>\n",
       "      <td>0</td>\n",
       "      <td>0</td>\n",
       "      <td>0</td>\n",
       "      <td>0</td>\n",
       "      <td>0</td>\n",
       "      <td>0</td>\n",
       "      <td>0</td>\n",
       "      <td>0</td>\n",
       "      <td>0</td>\n",
       "      <td>0</td>\n",
       "      <td>0</td>\n",
       "      <td>0</td>\n",
       "      <td>0</td>\n",
       "      <td>0</td>\n",
       "      <td>0</td>\n",
       "      <td>0</td>\n",
       "      <td>0</td>\n",
       "      <td>0</td>\n",
       "    </tr>\n",
       "    <tr>\n",
       "      <td>2</td>\n",
       "      <td>821637</td>\n",
       "      <td>0</td>\n",
       "      <td>0</td>\n",
       "      <td>0</td>\n",
       "      <td>0</td>\n",
       "      <td>0</td>\n",
       "      <td>0</td>\n",
       "      <td>0</td>\n",
       "      <td>0</td>\n",
       "      <td>0</td>\n",
       "      <td>0</td>\n",
       "      <td>0</td>\n",
       "      <td>0</td>\n",
       "      <td>0</td>\n",
       "      <td>0</td>\n",
       "      <td>0</td>\n",
       "      <td>0</td>\n",
       "      <td>0</td>\n",
       "      <td>0</td>\n",
       "    </tr>\n",
       "    <tr>\n",
       "      <td>3</td>\n",
       "      <td>827397</td>\n",
       "      <td>0</td>\n",
       "      <td>0</td>\n",
       "      <td>0</td>\n",
       "      <td>0</td>\n",
       "      <td>0</td>\n",
       "      <td>0</td>\n",
       "      <td>0</td>\n",
       "      <td>0</td>\n",
       "      <td>0</td>\n",
       "      <td>0</td>\n",
       "      <td>0</td>\n",
       "      <td>0</td>\n",
       "      <td>0</td>\n",
       "      <td>0</td>\n",
       "      <td>0</td>\n",
       "      <td>0</td>\n",
       "      <td>0</td>\n",
       "      <td>0</td>\n",
       "    </tr>\n",
       "    <tr>\n",
       "      <td>4</td>\n",
       "      <td>827555</td>\n",
       "      <td>0</td>\n",
       "      <td>0</td>\n",
       "      <td>0</td>\n",
       "      <td>0</td>\n",
       "      <td>0</td>\n",
       "      <td>0</td>\n",
       "      <td>0</td>\n",
       "      <td>0</td>\n",
       "      <td>0</td>\n",
       "      <td>0</td>\n",
       "      <td>0</td>\n",
       "      <td>0</td>\n",
       "      <td>0</td>\n",
       "      <td>0</td>\n",
       "      <td>0</td>\n",
       "      <td>0</td>\n",
       "      <td>0</td>\n",
       "      <td>0</td>\n",
       "    </tr>\n",
       "  </tbody>\n",
       "</table>\n",
       "</div>"
      ],
      "text/plain": [
       "   user_id  Jul12  Aug12  Sep12  Oct12  Nov12  Dec12  Jan13  Feb13  Mar13  \\\n",
       "0   821302      0      0      0      0      0      0      0      0      0   \n",
       "1   821429      0      0      0      0      0      0      0      0      0   \n",
       "2   821637      0      0      0      0      0      0      0      0      0   \n",
       "3   827397      0      0      0      0      0      0      0      0      0   \n",
       "4   827555      0      0      0      0      0      0      0      0      0   \n",
       "\n",
       "   Apr13  May13  Jun13  Jul13  Aug13  Sep13  Oct13  Nov13  Status  \n",
       "0      0      0      0      0      0      0      0      0       0  \n",
       "1      0      0      0      0      0      0      0      0       0  \n",
       "2      0      0      0      0      0      0      0      0       0  \n",
       "3      0      0      0      0      0      0      0      0       0  \n",
       "4      0      0      0      0      0      0      0      0       0  "
      ]
     },
     "execution_count": 18,
     "metadata": {},
     "output_type": "execute_result"
    }
   ],
   "source": [
    "df_loans.head()"
   ]
  },
  {
   "cell_type": "code",
   "execution_count": 19,
   "metadata": {},
   "outputs": [
    {
     "data": {
      "text/html": [
       "<div>\n",
       "<style scoped>\n",
       "    .dataframe tbody tr th:only-of-type {\n",
       "        vertical-align: middle;\n",
       "    }\n",
       "\n",
       "    .dataframe tbody tr th {\n",
       "        vertical-align: top;\n",
       "    }\n",
       "\n",
       "    .dataframe thead th {\n",
       "        text-align: right;\n",
       "    }\n",
       "</style>\n",
       "<table border=\"1\" class=\"dataframe\">\n",
       "  <thead>\n",
       "    <tr style=\"text-align: right;\">\n",
       "      <th></th>\n",
       "      <th>user_id</th>\n",
       "      <th>Jul12</th>\n",
       "      <th>Aug12</th>\n",
       "      <th>Sep12</th>\n",
       "      <th>Oct12</th>\n",
       "      <th>Nov12</th>\n",
       "      <th>Dec12</th>\n",
       "      <th>Jan13</th>\n",
       "      <th>Feb13</th>\n",
       "      <th>Mar13</th>\n",
       "      <th>Apr13</th>\n",
       "      <th>May13</th>\n",
       "      <th>Jun13</th>\n",
       "      <th>Jul13</th>\n",
       "      <th>Aug13</th>\n",
       "      <th>Sep13</th>\n",
       "      <th>Oct13</th>\n",
       "      <th>Nov13</th>\n",
       "      <th>Status</th>\n",
       "    </tr>\n",
       "  </thead>\n",
       "  <tbody>\n",
       "    <tr>\n",
       "      <td>count</td>\n",
       "      <td>9.532500e+04</td>\n",
       "      <td>95325.000000</td>\n",
       "      <td>95325.000000</td>\n",
       "      <td>95325.000000</td>\n",
       "      <td>95325.000000</td>\n",
       "      <td>95325.000000</td>\n",
       "      <td>95325.000000</td>\n",
       "      <td>95325.000000</td>\n",
       "      <td>95325.000000</td>\n",
       "      <td>95325.000000</td>\n",
       "      <td>95325.000000</td>\n",
       "      <td>95325.000000</td>\n",
       "      <td>95325.000000</td>\n",
       "      <td>95325.000000</td>\n",
       "      <td>95325.000000</td>\n",
       "      <td>95325.000000</td>\n",
       "      <td>95325.000000</td>\n",
       "      <td>95325.000000</td>\n",
       "      <td>95325.000000</td>\n",
       "    </tr>\n",
       "    <tr>\n",
       "      <td>mean</td>\n",
       "      <td>9.330802e+05</td>\n",
       "      <td>0.062502</td>\n",
       "      <td>0.090648</td>\n",
       "      <td>0.120535</td>\n",
       "      <td>0.163934</td>\n",
       "      <td>0.274251</td>\n",
       "      <td>0.317314</td>\n",
       "      <td>0.351755</td>\n",
       "      <td>0.390454</td>\n",
       "      <td>0.420121</td>\n",
       "      <td>0.476140</td>\n",
       "      <td>0.523263</td>\n",
       "      <td>0.567669</td>\n",
       "      <td>0.606840</td>\n",
       "      <td>0.655117</td>\n",
       "      <td>0.709824</td>\n",
       "      <td>0.774393</td>\n",
       "      <td>0.830999</td>\n",
       "      <td>0.320892</td>\n",
       "    </tr>\n",
       "    <tr>\n",
       "      <td>std</td>\n",
       "      <td>7.846090e+04</td>\n",
       "      <td>0.344539</td>\n",
       "      <td>0.435723</td>\n",
       "      <td>0.531093</td>\n",
       "      <td>0.648391</td>\n",
       "      <td>0.811483</td>\n",
       "      <td>0.947479</td>\n",
       "      <td>1.061979</td>\n",
       "      <td>1.183002</td>\n",
       "      <td>1.294199</td>\n",
       "      <td>1.438605</td>\n",
       "      <td>1.577345</td>\n",
       "      <td>1.714313</td>\n",
       "      <td>1.853532</td>\n",
       "      <td>2.006106</td>\n",
       "      <td>2.152524</td>\n",
       "      <td>2.318648</td>\n",
       "      <td>2.473440</td>\n",
       "      <td>0.466822</td>\n",
       "    </tr>\n",
       "    <tr>\n",
       "      <td>min</td>\n",
       "      <td>7.964690e+05</td>\n",
       "      <td>0.000000</td>\n",
       "      <td>0.000000</td>\n",
       "      <td>0.000000</td>\n",
       "      <td>0.000000</td>\n",
       "      <td>0.000000</td>\n",
       "      <td>0.000000</td>\n",
       "      <td>0.000000</td>\n",
       "      <td>0.000000</td>\n",
       "      <td>0.000000</td>\n",
       "      <td>0.000000</td>\n",
       "      <td>0.000000</td>\n",
       "      <td>0.000000</td>\n",
       "      <td>0.000000</td>\n",
       "      <td>0.000000</td>\n",
       "      <td>0.000000</td>\n",
       "      <td>0.000000</td>\n",
       "      <td>0.000000</td>\n",
       "      <td>0.000000</td>\n",
       "    </tr>\n",
       "    <tr>\n",
       "      <td>25%</td>\n",
       "      <td>8.643960e+05</td>\n",
       "      <td>0.000000</td>\n",
       "      <td>0.000000</td>\n",
       "      <td>0.000000</td>\n",
       "      <td>0.000000</td>\n",
       "      <td>0.000000</td>\n",
       "      <td>0.000000</td>\n",
       "      <td>0.000000</td>\n",
       "      <td>0.000000</td>\n",
       "      <td>0.000000</td>\n",
       "      <td>0.000000</td>\n",
       "      <td>0.000000</td>\n",
       "      <td>0.000000</td>\n",
       "      <td>0.000000</td>\n",
       "      <td>0.000000</td>\n",
       "      <td>0.000000</td>\n",
       "      <td>0.000000</td>\n",
       "      <td>0.000000</td>\n",
       "      <td>0.000000</td>\n",
       "    </tr>\n",
       "    <tr>\n",
       "      <td>50%</td>\n",
       "      <td>9.361450e+05</td>\n",
       "      <td>0.000000</td>\n",
       "      <td>0.000000</td>\n",
       "      <td>0.000000</td>\n",
       "      <td>0.000000</td>\n",
       "      <td>0.000000</td>\n",
       "      <td>0.000000</td>\n",
       "      <td>0.000000</td>\n",
       "      <td>0.000000</td>\n",
       "      <td>0.000000</td>\n",
       "      <td>0.000000</td>\n",
       "      <td>0.000000</td>\n",
       "      <td>0.000000</td>\n",
       "      <td>0.000000</td>\n",
       "      <td>0.000000</td>\n",
       "      <td>0.000000</td>\n",
       "      <td>0.000000</td>\n",
       "      <td>0.000000</td>\n",
       "      <td>0.000000</td>\n",
       "    </tr>\n",
       "    <tr>\n",
       "      <td>75%</td>\n",
       "      <td>1.000990e+06</td>\n",
       "      <td>0.000000</td>\n",
       "      <td>0.000000</td>\n",
       "      <td>0.000000</td>\n",
       "      <td>0.000000</td>\n",
       "      <td>0.000000</td>\n",
       "      <td>0.000000</td>\n",
       "      <td>0.000000</td>\n",
       "      <td>0.000000</td>\n",
       "      <td>0.000000</td>\n",
       "      <td>0.000000</td>\n",
       "      <td>0.000000</td>\n",
       "      <td>0.000000</td>\n",
       "      <td>0.000000</td>\n",
       "      <td>0.000000</td>\n",
       "      <td>0.000000</td>\n",
       "      <td>0.000000</td>\n",
       "      <td>0.000000</td>\n",
       "      <td>1.000000</td>\n",
       "    </tr>\n",
       "    <tr>\n",
       "      <td>max</td>\n",
       "      <td>1.067233e+06</td>\n",
       "      <td>6.000000</td>\n",
       "      <td>7.000000</td>\n",
       "      <td>8.000000</td>\n",
       "      <td>9.000000</td>\n",
       "      <td>10.000000</td>\n",
       "      <td>11.000000</td>\n",
       "      <td>12.000000</td>\n",
       "      <td>13.000000</td>\n",
       "      <td>14.000000</td>\n",
       "      <td>15.000000</td>\n",
       "      <td>16.000000</td>\n",
       "      <td>17.000000</td>\n",
       "      <td>18.000000</td>\n",
       "      <td>19.000000</td>\n",
       "      <td>20.000000</td>\n",
       "      <td>22.000000</td>\n",
       "      <td>23.000000</td>\n",
       "      <td>1.000000</td>\n",
       "    </tr>\n",
       "  </tbody>\n",
       "</table>\n",
       "</div>"
      ],
      "text/plain": [
       "            user_id         Jul12         Aug12         Sep12         Oct12  \\\n",
       "count  9.532500e+04  95325.000000  95325.000000  95325.000000  95325.000000   \n",
       "mean   9.330802e+05      0.062502      0.090648      0.120535      0.163934   \n",
       "std    7.846090e+04      0.344539      0.435723      0.531093      0.648391   \n",
       "min    7.964690e+05      0.000000      0.000000      0.000000      0.000000   \n",
       "25%    8.643960e+05      0.000000      0.000000      0.000000      0.000000   \n",
       "50%    9.361450e+05      0.000000      0.000000      0.000000      0.000000   \n",
       "75%    1.000990e+06      0.000000      0.000000      0.000000      0.000000   \n",
       "max    1.067233e+06      6.000000      7.000000      8.000000      9.000000   \n",
       "\n",
       "              Nov12         Dec12         Jan13         Feb13         Mar13  \\\n",
       "count  95325.000000  95325.000000  95325.000000  95325.000000  95325.000000   \n",
       "mean       0.274251      0.317314      0.351755      0.390454      0.420121   \n",
       "std        0.811483      0.947479      1.061979      1.183002      1.294199   \n",
       "min        0.000000      0.000000      0.000000      0.000000      0.000000   \n",
       "25%        0.000000      0.000000      0.000000      0.000000      0.000000   \n",
       "50%        0.000000      0.000000      0.000000      0.000000      0.000000   \n",
       "75%        0.000000      0.000000      0.000000      0.000000      0.000000   \n",
       "max       10.000000     11.000000     12.000000     13.000000     14.000000   \n",
       "\n",
       "              Apr13         May13         Jun13         Jul13         Aug13  \\\n",
       "count  95325.000000  95325.000000  95325.000000  95325.000000  95325.000000   \n",
       "mean       0.476140      0.523263      0.567669      0.606840      0.655117   \n",
       "std        1.438605      1.577345      1.714313      1.853532      2.006106   \n",
       "min        0.000000      0.000000      0.000000      0.000000      0.000000   \n",
       "25%        0.000000      0.000000      0.000000      0.000000      0.000000   \n",
       "50%        0.000000      0.000000      0.000000      0.000000      0.000000   \n",
       "75%        0.000000      0.000000      0.000000      0.000000      0.000000   \n",
       "max       15.000000     16.000000     17.000000     18.000000     19.000000   \n",
       "\n",
       "              Sep13         Oct13         Nov13        Status  \n",
       "count  95325.000000  95325.000000  95325.000000  95325.000000  \n",
       "mean       0.709824      0.774393      0.830999      0.320892  \n",
       "std        2.152524      2.318648      2.473440      0.466822  \n",
       "min        0.000000      0.000000      0.000000      0.000000  \n",
       "25%        0.000000      0.000000      0.000000      0.000000  \n",
       "50%        0.000000      0.000000      0.000000      0.000000  \n",
       "75%        0.000000      0.000000      0.000000      1.000000  \n",
       "max       20.000000     22.000000     23.000000      1.000000  "
      ]
     },
     "execution_count": 19,
     "metadata": {},
     "output_type": "execute_result"
    }
   ],
   "source": [
    "df_loans.describe()"
   ]
  },
  {
   "cell_type": "markdown",
   "metadata": {},
   "source": [
    "> Let's check what month produces default loan!"
   ]
  },
  {
   "cell_type": "code",
   "execution_count": 20,
   "metadata": {},
   "outputs": [
    {
     "data": {
      "text/plain": [
       "17"
      ]
     },
     "execution_count": 20,
     "metadata": {},
     "output_type": "execute_result"
    }
   ],
   "source": [
    "counter = []\n",
    "for col in df_loans.select_dtypes(exclude='O').drop(['user_id','Status'],axis=1):\n",
    "    count = 0\n",
    "    for i in df_loans[col]:\n",
    "        if i != 0:\n",
    "            count +=1\n",
    "    counter.append(count)\n",
    "counter.index(max(counter))+1"
   ]
  },
  {
   "cell_type": "markdown",
   "metadata": {},
   "source": [
    "> Looks like month 17th has most default loaned."
   ]
  },
  {
   "cell_type": "markdown",
   "metadata": {},
   "source": [
    "> Now, Let's open 'user_info.csv'!"
   ]
  },
  {
   "cell_type": "code",
   "execution_count": 21,
   "metadata": {},
   "outputs": [
    {
     "data": {
      "text/html": [
       "<div>\n",
       "<style scoped>\n",
       "    .dataframe tbody tr th:only-of-type {\n",
       "        vertical-align: middle;\n",
       "    }\n",
       "\n",
       "    .dataframe tbody tr th {\n",
       "        vertical-align: top;\n",
       "    }\n",
       "\n",
       "    .dataframe thead th {\n",
       "        text-align: right;\n",
       "    }\n",
       "</style>\n",
       "<table border=\"1\" class=\"dataframe\">\n",
       "  <thead>\n",
       "    <tr style=\"text-align: right;\">\n",
       "      <th></th>\n",
       "      <th>registration_date</th>\n",
       "      <th>years_of_study</th>\n",
       "      <th>family_size</th>\n",
       "      <th>loan_amount</th>\n",
       "      <th>total_career_years</th>\n",
       "      <th>birth_date</th>\n",
       "      <th>contract_type</th>\n",
       "      <th>is_male</th>\n",
       "      <th>province</th>\n",
       "      <th>zip_code</th>\n",
       "      <th>user_id</th>\n",
       "      <th>age</th>\n",
       "      <th>group</th>\n",
       "      <th>history_type</th>\n",
       "      <th>monthly_expense</th>\n",
       "    </tr>\n",
       "  </thead>\n",
       "  <tbody>\n",
       "    <tr>\n",
       "      <td>0</td>\n",
       "      <td>2012-01-21</td>\n",
       "      <td>1.0</td>\n",
       "      <td>0.0</td>\n",
       "      <td>187956</td>\n",
       "      <td>3.0</td>\n",
       "      <td>1987-10-15</td>\n",
       "      <td>A</td>\n",
       "      <td>0.0</td>\n",
       "      <td>A</td>\n",
       "      <td>300057</td>\n",
       "      <td>821302</td>\n",
       "      <td>24.0</td>\n",
       "      <td>A</td>\n",
       "      <td>A</td>\n",
       "      <td>14500.0</td>\n",
       "    </tr>\n",
       "    <tr>\n",
       "      <td>1</td>\n",
       "      <td>2012-01-21</td>\n",
       "      <td>8.0</td>\n",
       "      <td>0.0</td>\n",
       "      <td>170049</td>\n",
       "      <td>0.0</td>\n",
       "      <td>1982-04-27</td>\n",
       "      <td>B</td>\n",
       "      <td>1.0</td>\n",
       "      <td>A</td>\n",
       "      <td>300095</td>\n",
       "      <td>821429</td>\n",
       "      <td>30.0</td>\n",
       "      <td>B</td>\n",
       "      <td>B</td>\n",
       "      <td>26000.0</td>\n",
       "    </tr>\n",
       "    <tr>\n",
       "      <td>2</td>\n",
       "      <td>2012-01-21</td>\n",
       "      <td>NaN</td>\n",
       "      <td>0.0</td>\n",
       "      <td>108378</td>\n",
       "      <td>NaN</td>\n",
       "      <td>1969-08-30</td>\n",
       "      <td>C</td>\n",
       "      <td>1.0</td>\n",
       "      <td>A</td>\n",
       "      <td>300051</td>\n",
       "      <td>821637</td>\n",
       "      <td>42.0</td>\n",
       "      <td>B</td>\n",
       "      <td>B</td>\n",
       "      <td>30000.0</td>\n",
       "    </tr>\n",
       "    <tr>\n",
       "      <td>3</td>\n",
       "      <td>2012-01-25</td>\n",
       "      <td>5.0</td>\n",
       "      <td>0.0</td>\n",
       "      <td>134934</td>\n",
       "      <td>5.0</td>\n",
       "      <td>1970-10-21</td>\n",
       "      <td>D</td>\n",
       "      <td>0.0</td>\n",
       "      <td>A</td>\n",
       "      <td>300066</td>\n",
       "      <td>827397</td>\n",
       "      <td>41.0</td>\n",
       "      <td>B</td>\n",
       "      <td>B</td>\n",
       "      <td>20000.0</td>\n",
       "    </tr>\n",
       "    <tr>\n",
       "      <td>4</td>\n",
       "      <td>2012-01-25</td>\n",
       "      <td>15.0</td>\n",
       "      <td>0.0</td>\n",
       "      <td>166482</td>\n",
       "      <td>15.0</td>\n",
       "      <td>1977-08-03</td>\n",
       "      <td>D</td>\n",
       "      <td>1.0</td>\n",
       "      <td>A</td>\n",
       "      <td>300097</td>\n",
       "      <td>827555</td>\n",
       "      <td>34.0</td>\n",
       "      <td>B</td>\n",
       "      <td>B</td>\n",
       "      <td>20000.0</td>\n",
       "    </tr>\n",
       "  </tbody>\n",
       "</table>\n",
       "</div>"
      ],
      "text/plain": [
       "  registration_date  years_of_study  family_size  loan_amount  \\\n",
       "0        2012-01-21             1.0          0.0       187956   \n",
       "1        2012-01-21             8.0          0.0       170049   \n",
       "2        2012-01-21             NaN          0.0       108378   \n",
       "3        2012-01-25             5.0          0.0       134934   \n",
       "4        2012-01-25            15.0          0.0       166482   \n",
       "\n",
       "   total_career_years  birth_date contract_type  is_male province  zip_code  \\\n",
       "0                 3.0  1987-10-15             A      0.0        A    300057   \n",
       "1                 0.0  1982-04-27             B      1.0        A    300095   \n",
       "2                 NaN  1969-08-30             C      1.0        A    300051   \n",
       "3                 5.0  1970-10-21             D      0.0        A    300066   \n",
       "4                15.0  1977-08-03             D      1.0        A    300097   \n",
       "\n",
       "   user_id   age group history_type  monthly_expense  \n",
       "0   821302  24.0     A            A          14500.0  \n",
       "1   821429  30.0     B            B          26000.0  \n",
       "2   821637  42.0     B            B          30000.0  \n",
       "3   827397  41.0     B            B          20000.0  \n",
       "4   827555  34.0     B            B          20000.0  "
      ]
     },
     "execution_count": 21,
     "metadata": {},
     "output_type": "execute_result"
    }
   ],
   "source": [
    "df_user = pd.read_csv('user_info.csv',index_col=0)\n",
    "df_user.head()"
   ]
  },
  {
   "cell_type": "code",
   "execution_count": 22,
   "metadata": {
    "scrolled": true
   },
   "outputs": [
    {
     "name": "stdout",
     "output_type": "stream",
     "text": [
      "<class 'pandas.core.frame.DataFrame'>\n",
      "Int64Index: 128181 entries, 0 to 128180\n",
      "Data columns (total 15 columns):\n",
      "registration_date     128181 non-null object\n",
      "years_of_study        42809 non-null float64\n",
      "family_size           128172 non-null float64\n",
      "loan_amount           128181 non-null int64\n",
      "total_career_years    42807 non-null float64\n",
      "birth_date            128144 non-null object\n",
      "contract_type         128181 non-null object\n",
      "is_male               128174 non-null float64\n",
      "province              128181 non-null object\n",
      "zip_code              128181 non-null int64\n",
      "user_id               128181 non-null int64\n",
      "age                   128144 non-null float64\n",
      "group                 128144 non-null object\n",
      "history_type          128005 non-null object\n",
      "monthly_expense       128144 non-null float64\n",
      "dtypes: float64(6), int64(3), object(6)\n",
      "memory usage: 15.6+ MB\n"
     ]
    }
   ],
   "source": [
    "df_user.info()"
   ]
  },
  {
   "cell_type": "code",
   "execution_count": 23,
   "metadata": {},
   "outputs": [
    {
     "data": {
      "text/plain": [
       "registration_date     0.000000\n",
       "years_of_study        0.666027\n",
       "family_size           0.000070\n",
       "loan_amount           0.000000\n",
       "total_career_years    0.666043\n",
       "birth_date            0.000289\n",
       "contract_type         0.000000\n",
       "is_male               0.000055\n",
       "province              0.000000\n",
       "zip_code              0.000000\n",
       "user_id               0.000000\n",
       "age                   0.000289\n",
       "group                 0.000289\n",
       "history_type          0.001373\n",
       "monthly_expense       0.000289\n",
       "dtype: float64"
      ]
     },
     "execution_count": 23,
     "metadata": {},
     "output_type": "execute_result"
    }
   ],
   "source": [
    "df_user.isna().sum()/len(df_user)"
   ]
  },
  {
   "cell_type": "code",
   "execution_count": 24,
   "metadata": {
    "scrolled": true
   },
   "outputs": [
    {
     "data": {
      "text/html": [
       "<div>\n",
       "<style scoped>\n",
       "    .dataframe tbody tr th:only-of-type {\n",
       "        vertical-align: middle;\n",
       "    }\n",
       "\n",
       "    .dataframe tbody tr th {\n",
       "        vertical-align: top;\n",
       "    }\n",
       "\n",
       "    .dataframe thead th {\n",
       "        text-align: right;\n",
       "    }\n",
       "</style>\n",
       "<table border=\"1\" class=\"dataframe\">\n",
       "  <thead>\n",
       "    <tr style=\"text-align: right;\">\n",
       "      <th></th>\n",
       "      <th>years_of_study</th>\n",
       "      <th>family_size</th>\n",
       "      <th>loan_amount</th>\n",
       "      <th>total_career_years</th>\n",
       "      <th>is_male</th>\n",
       "      <th>zip_code</th>\n",
       "      <th>user_id</th>\n",
       "      <th>age</th>\n",
       "      <th>monthly_expense</th>\n",
       "    </tr>\n",
       "  </thead>\n",
       "  <tbody>\n",
       "    <tr>\n",
       "      <td>count</td>\n",
       "      <td>42809.000000</td>\n",
       "      <td>128172.000000</td>\n",
       "      <td>128181.000000</td>\n",
       "      <td>42807.000000</td>\n",
       "      <td>128174.000000</td>\n",
       "      <td>128181.000000</td>\n",
       "      <td>1.281810e+05</td>\n",
       "      <td>128144.000000</td>\n",
       "      <td>1.281440e+05</td>\n",
       "    </tr>\n",
       "    <tr>\n",
       "      <td>mean</td>\n",
       "      <td>6.208718</td>\n",
       "      <td>1.048115</td>\n",
       "      <td>149102.526997</td>\n",
       "      <td>6.450043</td>\n",
       "      <td>0.908687</td>\n",
       "      <td>377670.729921</td>\n",
       "      <td>9.331985e+05</td>\n",
       "      <td>33.370895</td>\n",
       "      <td>1.678498e+04</td>\n",
       "    </tr>\n",
       "    <tr>\n",
       "      <td>std</td>\n",
       "      <td>6.155817</td>\n",
       "      <td>1.416557</td>\n",
       "      <td>19388.358688</td>\n",
       "      <td>6.614446</td>\n",
       "      <td>0.288055</td>\n",
       "      <td>205505.321265</td>\n",
       "      <td>7.832276e+04</td>\n",
       "      <td>9.588651</td>\n",
       "      <td>1.491769e+04</td>\n",
       "    </tr>\n",
       "    <tr>\n",
       "      <td>min</td>\n",
       "      <td>0.000000</td>\n",
       "      <td>0.000000</td>\n",
       "      <td>58245.000000</td>\n",
       "      <td>0.000000</td>\n",
       "      <td>0.000000</td>\n",
       "      <td>-100000.000000</td>\n",
       "      <td>7.964690e+05</td>\n",
       "      <td>18.000000</td>\n",
       "      <td>0.000000e+00</td>\n",
       "    </tr>\n",
       "    <tr>\n",
       "      <td>25%</td>\n",
       "      <td>2.000000</td>\n",
       "      <td>0.000000</td>\n",
       "      <td>135321.000000</td>\n",
       "      <td>2.000000</td>\n",
       "      <td>1.000000</td>\n",
       "      <td>221001.000000</td>\n",
       "      <td>8.644810e+05</td>\n",
       "      <td>26.000000</td>\n",
       "      <td>1.200000e+04</td>\n",
       "    </tr>\n",
       "    <tr>\n",
       "      <td>50%</td>\n",
       "      <td>4.000000</td>\n",
       "      <td>0.000000</td>\n",
       "      <td>151713.000000</td>\n",
       "      <td>4.000000</td>\n",
       "      <td>1.000000</td>\n",
       "      <td>374001.000000</td>\n",
       "      <td>9.369000e+05</td>\n",
       "      <td>31.000000</td>\n",
       "      <td>1.500000e+04</td>\n",
       "    </tr>\n",
       "    <tr>\n",
       "      <td>75%</td>\n",
       "      <td>8.000000</td>\n",
       "      <td>2.000000</td>\n",
       "      <td>161817.000000</td>\n",
       "      <td>8.000000</td>\n",
       "      <td>1.000000</td>\n",
       "      <td>536012.000000</td>\n",
       "      <td>1.000687e+06</td>\n",
       "      <td>40.000000</td>\n",
       "      <td>2.000000e+04</td>\n",
       "    </tr>\n",
       "    <tr>\n",
       "      <td>max</td>\n",
       "      <td>60.000000</td>\n",
       "      <td>44.000000</td>\n",
       "      <td>301539.000000</td>\n",
       "      <td>70.000000</td>\n",
       "      <td>1.000000</td>\n",
       "      <td>754331.000000</td>\n",
       "      <td>1.067233e+06</td>\n",
       "      <td>71.000000</td>\n",
       "      <td>1.500000e+06</td>\n",
       "    </tr>\n",
       "  </tbody>\n",
       "</table>\n",
       "</div>"
      ],
      "text/plain": [
       "       years_of_study    family_size    loan_amount  total_career_years  \\\n",
       "count    42809.000000  128172.000000  128181.000000        42807.000000   \n",
       "mean         6.208718       1.048115  149102.526997            6.450043   \n",
       "std          6.155817       1.416557   19388.358688            6.614446   \n",
       "min          0.000000       0.000000   58245.000000            0.000000   \n",
       "25%          2.000000       0.000000  135321.000000            2.000000   \n",
       "50%          4.000000       0.000000  151713.000000            4.000000   \n",
       "75%          8.000000       2.000000  161817.000000            8.000000   \n",
       "max         60.000000      44.000000  301539.000000           70.000000   \n",
       "\n",
       "             is_male       zip_code       user_id            age  \\\n",
       "count  128174.000000  128181.000000  1.281810e+05  128144.000000   \n",
       "mean        0.908687  377670.729921  9.331985e+05      33.370895   \n",
       "std         0.288055  205505.321265  7.832276e+04       9.588651   \n",
       "min         0.000000 -100000.000000  7.964690e+05      18.000000   \n",
       "25%         1.000000  221001.000000  8.644810e+05      26.000000   \n",
       "50%         1.000000  374001.000000  9.369000e+05      31.000000   \n",
       "75%         1.000000  536012.000000  1.000687e+06      40.000000   \n",
       "max         1.000000  754331.000000  1.067233e+06      71.000000   \n",
       "\n",
       "       monthly_expense  \n",
       "count     1.281440e+05  \n",
       "mean      1.678498e+04  \n",
       "std       1.491769e+04  \n",
       "min       0.000000e+00  \n",
       "25%       1.200000e+04  \n",
       "50%       1.500000e+04  \n",
       "75%       2.000000e+04  \n",
       "max       1.500000e+06  "
      ]
     },
     "execution_count": 24,
     "metadata": {},
     "output_type": "execute_result"
    }
   ],
   "source": [
    "df_user.describe()"
   ]
  },
  {
   "cell_type": "markdown",
   "metadata": {},
   "source": [
    "> The data has 66 % null value for 'years_of_study' and 'total_career_years'. Let's drop them with 'registration_date' and 'zip_code' since we will not use them. Merge it with our data before(df_loans)! with dropna so a little nan values on some columns are dropped. Rearrange columns position! Let's take a customer's birth yeat for statistical test later! and change 'is_male' columns to categorycal!"
   ]
  },
  {
   "cell_type": "code",
   "execution_count": 25,
   "metadata": {},
   "outputs": [
    {
     "data": {
      "text/html": [
       "<div>\n",
       "<style scoped>\n",
       "    .dataframe tbody tr th:only-of-type {\n",
       "        vertical-align: middle;\n",
       "    }\n",
       "\n",
       "    .dataframe tbody tr th {\n",
       "        vertical-align: top;\n",
       "    }\n",
       "\n",
       "    .dataframe thead th {\n",
       "        text-align: right;\n",
       "    }\n",
       "</style>\n",
       "<table border=\"1\" class=\"dataframe\">\n",
       "  <thead>\n",
       "    <tr style=\"text-align: right;\">\n",
       "      <th></th>\n",
       "      <th>user_id</th>\n",
       "      <th>family_size</th>\n",
       "      <th>contract_type</th>\n",
       "      <th>birth_date</th>\n",
       "      <th>is_male</th>\n",
       "      <th>province</th>\n",
       "      <th>age</th>\n",
       "      <th>group</th>\n",
       "      <th>history_type</th>\n",
       "      <th>monthly_expense</th>\n",
       "      <th>loan_amount</th>\n",
       "      <th>Status</th>\n",
       "    </tr>\n",
       "  </thead>\n",
       "  <tbody>\n",
       "    <tr>\n",
       "      <td>0</td>\n",
       "      <td>821302</td>\n",
       "      <td>0.0</td>\n",
       "      <td>A</td>\n",
       "      <td>1987</td>\n",
       "      <td>female</td>\n",
       "      <td>A</td>\n",
       "      <td>24.0</td>\n",
       "      <td>A</td>\n",
       "      <td>A</td>\n",
       "      <td>14500.0</td>\n",
       "      <td>187956</td>\n",
       "      <td>0</td>\n",
       "    </tr>\n",
       "    <tr>\n",
       "      <td>1</td>\n",
       "      <td>821429</td>\n",
       "      <td>0.0</td>\n",
       "      <td>B</td>\n",
       "      <td>1982</td>\n",
       "      <td>male</td>\n",
       "      <td>A</td>\n",
       "      <td>30.0</td>\n",
       "      <td>B</td>\n",
       "      <td>B</td>\n",
       "      <td>26000.0</td>\n",
       "      <td>170049</td>\n",
       "      <td>0</td>\n",
       "    </tr>\n",
       "    <tr>\n",
       "      <td>2</td>\n",
       "      <td>821637</td>\n",
       "      <td>0.0</td>\n",
       "      <td>C</td>\n",
       "      <td>1969</td>\n",
       "      <td>male</td>\n",
       "      <td>A</td>\n",
       "      <td>42.0</td>\n",
       "      <td>B</td>\n",
       "      <td>B</td>\n",
       "      <td>30000.0</td>\n",
       "      <td>108378</td>\n",
       "      <td>0</td>\n",
       "    </tr>\n",
       "    <tr>\n",
       "      <td>3</td>\n",
       "      <td>827397</td>\n",
       "      <td>0.0</td>\n",
       "      <td>D</td>\n",
       "      <td>1970</td>\n",
       "      <td>female</td>\n",
       "      <td>A</td>\n",
       "      <td>41.0</td>\n",
       "      <td>B</td>\n",
       "      <td>B</td>\n",
       "      <td>20000.0</td>\n",
       "      <td>134934</td>\n",
       "      <td>0</td>\n",
       "    </tr>\n",
       "    <tr>\n",
       "      <td>4</td>\n",
       "      <td>827555</td>\n",
       "      <td>0.0</td>\n",
       "      <td>D</td>\n",
       "      <td>1977</td>\n",
       "      <td>male</td>\n",
       "      <td>A</td>\n",
       "      <td>34.0</td>\n",
       "      <td>B</td>\n",
       "      <td>B</td>\n",
       "      <td>20000.0</td>\n",
       "      <td>166482</td>\n",
       "      <td>0</td>\n",
       "    </tr>\n",
       "  </tbody>\n",
       "</table>\n",
       "</div>"
      ],
      "text/plain": [
       "   user_id  family_size contract_type  birth_date is_male province   age  \\\n",
       "0   821302          0.0             A        1987  female        A  24.0   \n",
       "1   821429          0.0             B        1982    male        A  30.0   \n",
       "2   821637          0.0             C        1969    male        A  42.0   \n",
       "3   827397          0.0             D        1970  female        A  41.0   \n",
       "4   827555          0.0             D        1977    male        A  34.0   \n",
       "\n",
       "  group history_type  monthly_expense  loan_amount  Status  \n",
       "0     A            A          14500.0       187956       0  \n",
       "1     B            B          26000.0       170049       0  \n",
       "2     B            B          30000.0       108378       0  \n",
       "3     B            B          20000.0       134934       0  \n",
       "4     B            B          20000.0       166482       0  "
      ]
     },
     "execution_count": 25,
     "metadata": {},
     "output_type": "execute_result"
    }
   ],
   "source": [
    "df = pd.merge(df_user.drop(['registration_date','years_of_study','total_career_years','zip_code'],axis=1),\n",
    "              df_loans[['user_id','Status']], on='user_id').dropna()\n",
    "df.reset_index(drop=True, inplace=True)\n",
    "df = df[['user_id','family_size','contract_type','birth_date','is_male', 'province','age','group','history_type','monthly_expense',\n",
    "         'loan_amount','Status']]\n",
    "df['birth_date'] = df['birth_date'].apply(lambda x : int(x[0:4]))\n",
    "df['is_male'] = df['is_male'].apply(lambda x : 'male' if x == 1.0 else 'female')\n",
    "df.head()"
   ]
  },
  {
   "cell_type": "code",
   "execution_count": 26,
   "metadata": {},
   "outputs": [
    {
     "name": "stdout",
     "output_type": "stream",
     "text": [
      "<class 'pandas.core.frame.DataFrame'>\n",
      "RangeIndex: 95188 entries, 0 to 95187\n",
      "Data columns (total 12 columns):\n",
      "user_id            95188 non-null int64\n",
      "family_size        95188 non-null float64\n",
      "contract_type      95188 non-null object\n",
      "birth_date         95188 non-null int64\n",
      "is_male            95188 non-null object\n",
      "province           95188 non-null object\n",
      "age                95188 non-null float64\n",
      "group              95188 non-null object\n",
      "history_type       95188 non-null object\n",
      "monthly_expense    95188 non-null float64\n",
      "loan_amount        95188 non-null int64\n",
      "Status             95188 non-null int64\n",
      "dtypes: float64(3), int64(4), object(5)\n",
      "memory usage: 8.7+ MB\n"
     ]
    }
   ],
   "source": [
    "df.info()"
   ]
  },
  {
   "cell_type": "code",
   "execution_count": 27,
   "metadata": {},
   "outputs": [
    {
     "data": {
      "text/html": [
       "<div>\n",
       "<style scoped>\n",
       "    .dataframe tbody tr th:only-of-type {\n",
       "        vertical-align: middle;\n",
       "    }\n",
       "\n",
       "    .dataframe tbody tr th {\n",
       "        vertical-align: top;\n",
       "    }\n",
       "\n",
       "    .dataframe thead th {\n",
       "        text-align: right;\n",
       "    }\n",
       "</style>\n",
       "<table border=\"1\" class=\"dataframe\">\n",
       "  <thead>\n",
       "    <tr style=\"text-align: right;\">\n",
       "      <th></th>\n",
       "      <th>user_id</th>\n",
       "      <th>family_size</th>\n",
       "      <th>birth_date</th>\n",
       "      <th>age</th>\n",
       "      <th>monthly_expense</th>\n",
       "      <th>loan_amount</th>\n",
       "      <th>Status</th>\n",
       "    </tr>\n",
       "  </thead>\n",
       "  <tbody>\n",
       "    <tr>\n",
       "      <td>count</td>\n",
       "      <td>9.518800e+04</td>\n",
       "      <td>95188.000000</td>\n",
       "      <td>95188.000000</td>\n",
       "      <td>95188.000000</td>\n",
       "      <td>9.518800e+04</td>\n",
       "      <td>95188.000000</td>\n",
       "      <td>95188.000000</td>\n",
       "    </tr>\n",
       "    <tr>\n",
       "      <td>mean</td>\n",
       "      <td>9.331070e+05</td>\n",
       "      <td>1.044880</td>\n",
       "      <td>1990.336513</td>\n",
       "      <td>33.401185</td>\n",
       "      <td>1.660778e+04</td>\n",
       "      <td>148569.938406</td>\n",
       "      <td>0.320797</td>\n",
       "    </tr>\n",
       "    <tr>\n",
       "      <td>std</td>\n",
       "      <td>7.844821e+04</td>\n",
       "      <td>1.419146</td>\n",
       "      <td>26.527912</td>\n",
       "      <td>9.624027</td>\n",
       "      <td>1.246952e+04</td>\n",
       "      <td>19237.745494</td>\n",
       "      <td>0.466785</td>\n",
       "    </tr>\n",
       "    <tr>\n",
       "      <td>min</td>\n",
       "      <td>7.964690e+05</td>\n",
       "      <td>0.000000</td>\n",
       "      <td>1966.000000</td>\n",
       "      <td>18.000000</td>\n",
       "      <td>0.000000e+00</td>\n",
       "      <td>58245.000000</td>\n",
       "      <td>0.000000</td>\n",
       "    </tr>\n",
       "    <tr>\n",
       "      <td>25%</td>\n",
       "      <td>8.644458e+05</td>\n",
       "      <td>0.000000</td>\n",
       "      <td>1977.000000</td>\n",
       "      <td>26.000000</td>\n",
       "      <td>1.200000e+04</td>\n",
       "      <td>135075.000000</td>\n",
       "      <td>0.000000</td>\n",
       "    </tr>\n",
       "    <tr>\n",
       "      <td>50%</td>\n",
       "      <td>9.361575e+05</td>\n",
       "      <td>0.000000</td>\n",
       "      <td>1983.000000</td>\n",
       "      <td>31.000000</td>\n",
       "      <td>1.500000e+04</td>\n",
       "      <td>151545.000000</td>\n",
       "      <td>0.000000</td>\n",
       "    </tr>\n",
       "    <tr>\n",
       "      <td>75%</td>\n",
       "      <td>1.001000e+06</td>\n",
       "      <td>2.000000</td>\n",
       "      <td>1989.000000</td>\n",
       "      <td>40.000000</td>\n",
       "      <td>2.000000e+04</td>\n",
       "      <td>161643.000000</td>\n",
       "      <td>1.000000</td>\n",
       "    </tr>\n",
       "    <tr>\n",
       "      <td>max</td>\n",
       "      <td>1.067233e+06</td>\n",
       "      <td>44.000000</td>\n",
       "      <td>2065.000000</td>\n",
       "      <td>71.000000</td>\n",
       "      <td>1.500000e+06</td>\n",
       "      <td>301539.000000</td>\n",
       "      <td>1.000000</td>\n",
       "    </tr>\n",
       "  </tbody>\n",
       "</table>\n",
       "</div>"
      ],
      "text/plain": [
       "            user_id   family_size    birth_date           age  \\\n",
       "count  9.518800e+04  95188.000000  95188.000000  95188.000000   \n",
       "mean   9.331070e+05      1.044880   1990.336513     33.401185   \n",
       "std    7.844821e+04      1.419146     26.527912      9.624027   \n",
       "min    7.964690e+05      0.000000   1966.000000     18.000000   \n",
       "25%    8.644458e+05      0.000000   1977.000000     26.000000   \n",
       "50%    9.361575e+05      0.000000   1983.000000     31.000000   \n",
       "75%    1.001000e+06      2.000000   1989.000000     40.000000   \n",
       "max    1.067233e+06     44.000000   2065.000000     71.000000   \n",
       "\n",
       "       monthly_expense    loan_amount        Status  \n",
       "count     9.518800e+04   95188.000000  95188.000000  \n",
       "mean      1.660778e+04  148569.938406      0.320797  \n",
       "std       1.246952e+04   19237.745494      0.466785  \n",
       "min       0.000000e+00   58245.000000      0.000000  \n",
       "25%       1.200000e+04  135075.000000      0.000000  \n",
       "50%       1.500000e+04  151545.000000      0.000000  \n",
       "75%       2.000000e+04  161643.000000      1.000000  \n",
       "max       1.500000e+06  301539.000000      1.000000  "
      ]
     },
     "execution_count": 27,
     "metadata": {},
     "output_type": "execute_result"
    }
   ],
   "source": [
    "df.describe()"
   ]
  },
  {
   "cell_type": "code",
   "execution_count": 28,
   "metadata": {},
   "outputs": [
    {
     "data": {
      "text/html": [
       "<div>\n",
       "<style scoped>\n",
       "    .dataframe tbody tr th:only-of-type {\n",
       "        vertical-align: middle;\n",
       "    }\n",
       "\n",
       "    .dataframe tbody tr th {\n",
       "        vertical-align: top;\n",
       "    }\n",
       "\n",
       "    .dataframe thead th {\n",
       "        text-align: right;\n",
       "    }\n",
       "</style>\n",
       "<table border=\"1\" class=\"dataframe\">\n",
       "  <thead>\n",
       "    <tr style=\"text-align: right;\">\n",
       "      <th></th>\n",
       "      <th>contract_type</th>\n",
       "      <th>is_male</th>\n",
       "      <th>province</th>\n",
       "      <th>group</th>\n",
       "      <th>history_type</th>\n",
       "    </tr>\n",
       "  </thead>\n",
       "  <tbody>\n",
       "    <tr>\n",
       "      <td>count</td>\n",
       "      <td>95188</td>\n",
       "      <td>95188</td>\n",
       "      <td>95188</td>\n",
       "      <td>95188</td>\n",
       "      <td>95188</td>\n",
       "    </tr>\n",
       "    <tr>\n",
       "      <td>unique</td>\n",
       "      <td>5</td>\n",
       "      <td>2</td>\n",
       "      <td>21</td>\n",
       "      <td>4</td>\n",
       "      <td>4</td>\n",
       "    </tr>\n",
       "    <tr>\n",
       "      <td>top</td>\n",
       "      <td>E</td>\n",
       "      <td>male</td>\n",
       "      <td>I</td>\n",
       "      <td>B</td>\n",
       "      <td>C</td>\n",
       "    </tr>\n",
       "    <tr>\n",
       "      <td>freq</td>\n",
       "      <td>45457</td>\n",
       "      <td>86817</td>\n",
       "      <td>10700</td>\n",
       "      <td>73022</td>\n",
       "      <td>48865</td>\n",
       "    </tr>\n",
       "  </tbody>\n",
       "</table>\n",
       "</div>"
      ],
      "text/plain": [
       "       contract_type is_male province  group history_type\n",
       "count          95188   95188    95188  95188        95188\n",
       "unique             5       2       21      4            4\n",
       "top                E    male        I      B            C\n",
       "freq           45457   86817    10700  73022        48865"
      ]
     },
     "execution_count": 28,
     "metadata": {},
     "output_type": "execute_result"
    }
   ],
   "source": [
    "df.describe(include=['O'])"
   ]
  },
  {
   "cell_type": "markdown",
   "metadata": {},
   "source": [
    "## Exploratory Data Analysis"
   ]
  },
  {
   "cell_type": "code",
   "execution_count": 29,
   "metadata": {
    "scrolled": true
   },
   "outputs": [
    {
     "data": {
      "text/plain": [
       "0    0.679203\n",
       "1    0.320797\n",
       "Name: Status, dtype: float64"
      ]
     },
     "execution_count": 29,
     "metadata": {},
     "output_type": "execute_result"
    }
   ],
   "source": [
    "df['Status'].value_counts(normalize=True)"
   ]
  },
  {
   "cell_type": "code",
   "execution_count": 30,
   "metadata": {
    "scrolled": false
   },
   "outputs": [
    {
     "data": {
      "image/png": "[encoded data removed]",
      "text/plain": [
       "<Figure size 432x288 with 1 Axes>"
      ]
     },
     "metadata": {
      "needs_background": "light"
     },
     "output_type": "display_data"
    }
   ],
   "source": [
    "sns.countplot(df['Status'])\n",
    "plt.show()"
   ]
  },
  {
   "cell_type": "markdown",
   "metadata": {},
   "source": [
    "> The data seems imbalanced. But, Let's Continue!"
   ]
  },
  {
   "cell_type": "code",
   "execution_count": 31,
   "metadata": {
    "scrolled": false
   },
   "outputs": [
    {
     "data": {
      "image/png": "[encoded data removed]",
      "text/plain": [
       "<Figure size 432x288 with 2 Axes>"
      ]
     },
     "metadata": {
      "needs_background": "light"
     },
     "output_type": "display_data"
    },
    {
     "data": {
      "image/png": "[encoded data removed]",
      "text/plain": [
       "<Figure size 432x288 with 2 Axes>"
      ]
     },
     "metadata": {
      "needs_background": "light"
     },
     "output_type": "display_data"
    },
    {
     "data": {
      "image/png": "[encoded data removed]",
      "text/plain": [
       "<Figure size 432x288 with 2 Axes>"
      ]
     },
     "metadata": {
      "needs_background": "light"
     },
     "output_type": "display_data"
    },
    {
     "data": {
      "image/png": "[encoded data removed]",
      "text/plain": [
       "<Figure size 432x288 with 2 Axes>"
      ]
     },
     "metadata": {
      "needs_background": "light"
     },
     "output_type": "display_data"
    },
    {
     "data": {
      "image/png": "[encoded data removed]",
      "text/plain": [
       "<Figure size 432x288 with 2 Axes>"
      ]
     },
     "metadata": {
      "needs_background": "light"
     },
     "output_type": "display_data"
    }
   ],
   "source": [
    "for i in df.select_dtypes(include='O'):\n",
    "    x, y,hue = i, 'percent', \"Status\"\n",
    "    f, axes = plt.subplots(1, 2)\n",
    "    sns.countplot(x=x, hue=hue, data=df, ax=axes[0])\n",
    "    prop_df = (df.groupby(x)[hue].value_counts(normalize=True).mul(100).rename(y).reset_index())\n",
    "    sns.barplot(x=x, y=y, hue=hue, data=prop_df, ax=axes[1])\n",
    "    plt.tight_layout()\n",
    "    plt.show()"
   ]
  },
  {
   "cell_type": "markdown",
   "metadata": {},
   "source": [
    "> From the graph above:\n",
    "- Contract Type E is the most contract type that customer gets\n",
    "- Most of customers are male\n",
    "- Province J is only province that default customers are more than not default customers\n",
    "- Customers Group B is the majority group\n",
    "- History type C is the majority history type"
   ]
  },
  {
   "cell_type": "code",
   "execution_count": 32,
   "metadata": {
    "scrolled": false
   },
   "outputs": [
    {
     "data": {
      "image/png": "[encoded data removed]",
      "text/plain": [
       "<Figure size 432x288 with 1 Axes>"
      ]
     },
     "metadata": {
      "needs_background": "light"
     },
     "output_type": "display_data"
    },
    {
     "data": {
      "image/png": "[encoded data removed]",
      "text/plain": [
       "<Figure size 432x288 with 1 Axes>"
      ]
     },
     "metadata": {
      "needs_background": "light"
     },
     "output_type": "display_data"
    },
    {
     "data": {
      "image/png": "[encoded data removed]",
      "text/plain": [
       "<Figure size 432x288 with 1 Axes>"
      ]
     },
     "metadata": {
      "needs_background": "light"
     },
     "output_type": "display_data"
    },
    {
     "data": {
      "image/png": "[encoded data removed]",
      "text/plain": [
       "<Figure size 432x288 with 1 Axes>"
      ]
     },
     "metadata": {
      "needs_background": "light"
     },
     "output_type": "display_data"
    }
   ],
   "source": [
    "for i in df.select_dtypes(exclude='O').drop(['user_id','birth_date','Status'],axis=1):\n",
    "    sns.distplot(df[df['Status']==0][i],label='0',kde=False,bins=50)\n",
    "    sns.distplot(df[df['Status']==1][i],label='1',kde=False,bins=50)\n",
    "    plt.legend()\n",
    "    plt.show()"
   ]
  },
  {
   "cell_type": "markdown",
   "metadata": {},
   "source": [
    "> From the graph above:\n",
    "- A lot of customers have small family.\n",
    "- A lot of customers are about 20-35 years old\n",
    "- Customer whose high expenses seems to be Default customer\n",
    "- Amount of loan are about 150k "
   ]
  },
  {
   "cell_type": "markdown",
   "metadata": {},
   "source": [
    "> Let's take a look at Province J"
   ]
  },
  {
   "cell_type": "code",
   "execution_count": 33,
   "metadata": {},
   "outputs": [
    {
     "data": {
      "image/png": "[encoded data removed]",
      "text/plain": [
       "<Figure size 432x288 with 2 Axes>"
      ]
     },
     "metadata": {
      "needs_background": "light"
     },
     "output_type": "display_data"
    },
    {
     "data": {
      "image/png": "[encoded data removed]",
      "text/plain": [
       "<Figure size 432x288 with 2 Axes>"
      ]
     },
     "metadata": {
      "needs_background": "light"
     },
     "output_type": "display_data"
    },
    {
     "data": {
      "image/png": "[encoded data removed]",
      "text/plain": [
       "<Figure size 432x288 with 2 Axes>"
      ]
     },
     "metadata": {
      "needs_background": "light"
     },
     "output_type": "display_data"
    },
    {
     "data": {
      "image/png": "[encoded data removed]",
      "text/plain": [
       "<Figure size 432x288 with 2 Axes>"
      ]
     },
     "metadata": {
      "needs_background": "light"
     },
     "output_type": "display_data"
    },
    {
     "data": {
      "image/png": "[encoded data removed]",
      "text/plain": [
       "<Figure size 432x288 with 2 Axes>"
      ]
     },
     "metadata": {
      "needs_background": "light"
     },
     "output_type": "display_data"
    }
   ],
   "source": [
    "for i in df.select_dtypes(include='O'):\n",
    "    x, y,hue = i, 'percent', \"Status\"\n",
    "    f, axes = plt.subplots(1, 2)\n",
    "    sns.countplot(x=x, hue=hue, data=df[df['province']=='J'], ax=axes[0])\n",
    "    prop_df = (df[df['province']=='J'].groupby(x)[hue].value_counts(normalize=True).mul(100).rename(y).reset_index())\n",
    "    sns.barplot(x=x, y=y, hue=hue, data=prop_df, ax=axes[1])\n",
    "    plt.tight_layout()\n",
    "    plt.show()"
   ]
  },
  {
   "cell_type": "markdown",
   "metadata": {},
   "source": [
    "> On Province J, customer with the contract type A and/or history type A and D seems not to be default loaner."
   ]
  },
  {
   "cell_type": "code",
   "execution_count": 34,
   "metadata": {},
   "outputs": [
    {
     "data": {
      "image/png": "[encoded data removed]",
      "text/plain": [
       "<Figure size 432x288 with 1 Axes>"
      ]
     },
     "metadata": {
      "needs_background": "light"
     },
     "output_type": "display_data"
    },
    {
     "data": {
      "image/png": "[encoded data removed]",
      "text/plain": [
       "<Figure size 432x288 with 1 Axes>"
      ]
     },
     "metadata": {
      "needs_background": "light"
     },
     "output_type": "display_data"
    },
    {
     "data": {
      "image/png": "[encoded data removed]",
      "text/plain": [
       "<Figure size 432x288 with 1 Axes>"
      ]
     },
     "metadata": {
      "needs_background": "light"
     },
     "output_type": "display_data"
    },
    {
     "data": {
      "image/png": "[encoded data removed]",
      "text/plain": [
       "<Figure size 432x288 with 1 Axes>"
      ]
     },
     "metadata": {
      "needs_background": "light"
     },
     "output_type": "display_data"
    }
   ],
   "source": [
    "for i in df.select_dtypes(exclude='O').drop(['user_id','birth_date','Status'],axis=1):\n",
    "    sns.distplot(df[(df['province']=='J')&(df['Status']==1)][i],label='1',kde=False,bins=50)\n",
    "    sns.distplot(df[(df['province']=='J')&(df['Status']==0)][i],label='0',kde=False,bins=50)\n",
    "    plt.legend()\n",
    "    plt.show()"
   ]
  },
  {
   "cell_type": "markdown",
   "metadata": {},
   "source": [
    "> On Province J, customer whose age less than about 45 seems to be default customer"
   ]
  },
  {
   "cell_type": "code",
   "execution_count": 35,
   "metadata": {
    "scrolled": true
   },
   "outputs": [
    {
     "data": {
      "text/html": [
       "<div>\n",
       "<style scoped>\n",
       "    .dataframe tbody tr th:only-of-type {\n",
       "        vertical-align: middle;\n",
       "    }\n",
       "\n",
       "    .dataframe tbody tr th {\n",
       "        vertical-align: top;\n",
       "    }\n",
       "\n",
       "    .dataframe thead th {\n",
       "        text-align: right;\n",
       "    }\n",
       "</style>\n",
       "<table border=\"1\" class=\"dataframe\">\n",
       "  <thead>\n",
       "    <tr style=\"text-align: right;\">\n",
       "      <th></th>\n",
       "      <th>user_id</th>\n",
       "      <th>family_size</th>\n",
       "      <th>contract_type</th>\n",
       "      <th>birth_date</th>\n",
       "      <th>is_male</th>\n",
       "      <th>province</th>\n",
       "      <th>age</th>\n",
       "      <th>group</th>\n",
       "      <th>history_type</th>\n",
       "      <th>monthly_expense</th>\n",
       "      <th>loan_amount</th>\n",
       "      <th>Status</th>\n",
       "    </tr>\n",
       "  </thead>\n",
       "  <tbody>\n",
       "    <tr>\n",
       "      <td>11144</td>\n",
       "      <td>814429</td>\n",
       "      <td>0.0</td>\n",
       "      <td>B</td>\n",
       "      <td>1987</td>\n",
       "      <td>male</td>\n",
       "      <td>N</td>\n",
       "      <td>25.0</td>\n",
       "      <td>B</td>\n",
       "      <td>C</td>\n",
       "      <td>10500.0</td>\n",
       "      <td>112488</td>\n",
       "      <td>0</td>\n",
       "    </tr>\n",
       "    <tr>\n",
       "      <td>11145</td>\n",
       "      <td>825471</td>\n",
       "      <td>0.0</td>\n",
       "      <td>E</td>\n",
       "      <td>1993</td>\n",
       "      <td>male</td>\n",
       "      <td>N</td>\n",
       "      <td>18.0</td>\n",
       "      <td>A</td>\n",
       "      <td>C</td>\n",
       "      <td>10000.0</td>\n",
       "      <td>109941</td>\n",
       "      <td>1</td>\n",
       "    </tr>\n",
       "  </tbody>\n",
       "</table>\n",
       "</div>"
      ],
      "text/plain": [
       "       user_id  family_size contract_type  birth_date is_male province   age  \\\n",
       "11144   814429          0.0             B        1987    male        N  25.0   \n",
       "11145   825471          0.0             E        1993    male        N  18.0   \n",
       "\n",
       "      group history_type  monthly_expense  loan_amount  Status  \n",
       "11144     B            C          10500.0       112488       0  \n",
       "11145     A            C          10000.0       109941       1  "
      ]
     },
     "execution_count": 35,
     "metadata": {},
     "output_type": "execute_result"
    }
   ],
   "source": [
    "df[df['province']=='N']"
   ]
  },
  {
   "cell_type": "markdown",
   "metadata": {},
   "source": [
    "> Province N only got 2 Customers."
   ]
  },
  {
   "cell_type": "markdown",
   "metadata": {},
   "source": [
    "## Modelling"
   ]
  },
  {
   "cell_type": "markdown",
   "metadata": {},
   "source": [
    "> First, Let's Do Feature Engineering with one hot encoding! Drop 'birth_date','user_id', and 'Status'!"
   ]
  },
  {
   "cell_type": "code",
   "execution_count": 36,
   "metadata": {},
   "outputs": [],
   "source": [
    "df_learn = df.drop(['birth_date','user_id','Status'],axis=1)\n",
    "df_learn = pd.get_dummies(df_learn,['contract_type','is_male','province','group','history_type'],drop_first=True)"
   ]
  },
  {
   "cell_type": "code",
   "execution_count": 37,
   "metadata": {
    "scrolled": true
   },
   "outputs": [
    {
     "data": {
      "text/html": [
       "<div>\n",
       "<style scoped>\n",
       "    .dataframe tbody tr th:only-of-type {\n",
       "        vertical-align: middle;\n",
       "    }\n",
       "\n",
       "    .dataframe tbody tr th {\n",
       "        vertical-align: top;\n",
       "    }\n",
       "\n",
       "    .dataframe thead th {\n",
       "        text-align: right;\n",
       "    }\n",
       "</style>\n",
       "<table border=\"1\" class=\"dataframe\">\n",
       "  <thead>\n",
       "    <tr style=\"text-align: right;\">\n",
       "      <th></th>\n",
       "      <th>family_size</th>\n",
       "      <th>age</th>\n",
       "      <th>monthly_expense</th>\n",
       "      <th>loan_amount</th>\n",
       "      <th>contract_type_B</th>\n",
       "      <th>contract_type_C</th>\n",
       "      <th>contract_type_D</th>\n",
       "      <th>contract_type_E</th>\n",
       "      <th>is_male_male</th>\n",
       "      <th>province_B</th>\n",
       "      <th>...</th>\n",
       "      <th>province_R</th>\n",
       "      <th>province_S</th>\n",
       "      <th>province_T</th>\n",
       "      <th>province_U</th>\n",
       "      <th>group_B</th>\n",
       "      <th>group_C</th>\n",
       "      <th>group_D</th>\n",
       "      <th>history_type_B</th>\n",
       "      <th>history_type_C</th>\n",
       "      <th>history_type_D</th>\n",
       "    </tr>\n",
       "  </thead>\n",
       "  <tbody>\n",
       "    <tr>\n",
       "      <td>0</td>\n",
       "      <td>0.0</td>\n",
       "      <td>24.0</td>\n",
       "      <td>14500.0</td>\n",
       "      <td>187956</td>\n",
       "      <td>0</td>\n",
       "      <td>0</td>\n",
       "      <td>0</td>\n",
       "      <td>0</td>\n",
       "      <td>0</td>\n",
       "      <td>0</td>\n",
       "      <td>...</td>\n",
       "      <td>0</td>\n",
       "      <td>0</td>\n",
       "      <td>0</td>\n",
       "      <td>0</td>\n",
       "      <td>0</td>\n",
       "      <td>0</td>\n",
       "      <td>0</td>\n",
       "      <td>0</td>\n",
       "      <td>0</td>\n",
       "      <td>0</td>\n",
       "    </tr>\n",
       "    <tr>\n",
       "      <td>1</td>\n",
       "      <td>0.0</td>\n",
       "      <td>30.0</td>\n",
       "      <td>26000.0</td>\n",
       "      <td>170049</td>\n",
       "      <td>1</td>\n",
       "      <td>0</td>\n",
       "      <td>0</td>\n",
       "      <td>0</td>\n",
       "      <td>1</td>\n",
       "      <td>0</td>\n",
       "      <td>...</td>\n",
       "      <td>0</td>\n",
       "      <td>0</td>\n",
       "      <td>0</td>\n",
       "      <td>0</td>\n",
       "      <td>1</td>\n",
       "      <td>0</td>\n",
       "      <td>0</td>\n",
       "      <td>1</td>\n",
       "      <td>0</td>\n",
       "      <td>0</td>\n",
       "    </tr>\n",
       "    <tr>\n",
       "      <td>2</td>\n",
       "      <td>0.0</td>\n",
       "      <td>42.0</td>\n",
       "      <td>30000.0</td>\n",
       "      <td>108378</td>\n",
       "      <td>0</td>\n",
       "      <td>1</td>\n",
       "      <td>0</td>\n",
       "      <td>0</td>\n",
       "      <td>1</td>\n",
       "      <td>0</td>\n",
       "      <td>...</td>\n",
       "      <td>0</td>\n",
       "      <td>0</td>\n",
       "      <td>0</td>\n",
       "      <td>0</td>\n",
       "      <td>1</td>\n",
       "      <td>0</td>\n",
       "      <td>0</td>\n",
       "      <td>1</td>\n",
       "      <td>0</td>\n",
       "      <td>0</td>\n",
       "    </tr>\n",
       "    <tr>\n",
       "      <td>3</td>\n",
       "      <td>0.0</td>\n",
       "      <td>41.0</td>\n",
       "      <td>20000.0</td>\n",
       "      <td>134934</td>\n",
       "      <td>0</td>\n",
       "      <td>0</td>\n",
       "      <td>1</td>\n",
       "      <td>0</td>\n",
       "      <td>0</td>\n",
       "      <td>0</td>\n",
       "      <td>...</td>\n",
       "      <td>0</td>\n",
       "      <td>0</td>\n",
       "      <td>0</td>\n",
       "      <td>0</td>\n",
       "      <td>1</td>\n",
       "      <td>0</td>\n",
       "      <td>0</td>\n",
       "      <td>1</td>\n",
       "      <td>0</td>\n",
       "      <td>0</td>\n",
       "    </tr>\n",
       "    <tr>\n",
       "      <td>4</td>\n",
       "      <td>0.0</td>\n",
       "      <td>34.0</td>\n",
       "      <td>20000.0</td>\n",
       "      <td>166482</td>\n",
       "      <td>0</td>\n",
       "      <td>0</td>\n",
       "      <td>1</td>\n",
       "      <td>0</td>\n",
       "      <td>1</td>\n",
       "      <td>0</td>\n",
       "      <td>...</td>\n",
       "      <td>0</td>\n",
       "      <td>0</td>\n",
       "      <td>0</td>\n",
       "      <td>0</td>\n",
       "      <td>1</td>\n",
       "      <td>0</td>\n",
       "      <td>0</td>\n",
       "      <td>1</td>\n",
       "      <td>0</td>\n",
       "      <td>0</td>\n",
       "    </tr>\n",
       "  </tbody>\n",
       "</table>\n",
       "<p>5 rows × 35 columns</p>\n",
       "</div>"
      ],
      "text/plain": [
       "   family_size   age  monthly_expense  loan_amount  contract_type_B  \\\n",
       "0          0.0  24.0          14500.0       187956                0   \n",
       "1          0.0  30.0          26000.0       170049                1   \n",
       "2          0.0  42.0          30000.0       108378                0   \n",
       "3          0.0  41.0          20000.0       134934                0   \n",
       "4          0.0  34.0          20000.0       166482                0   \n",
       "\n",
       "   contract_type_C  contract_type_D  contract_type_E  is_male_male  \\\n",
       "0                0                0                0             0   \n",
       "1                0                0                0             1   \n",
       "2                1                0                0             1   \n",
       "3                0                1                0             0   \n",
       "4                0                1                0             1   \n",
       "\n",
       "   province_B  ...  province_R  province_S  province_T  province_U  group_B  \\\n",
       "0           0  ...           0           0           0           0        0   \n",
       "1           0  ...           0           0           0           0        1   \n",
       "2           0  ...           0           0           0           0        1   \n",
       "3           0  ...           0           0           0           0        1   \n",
       "4           0  ...           0           0           0           0        1   \n",
       "\n",
       "   group_C  group_D  history_type_B  history_type_C  history_type_D  \n",
       "0        0        0               0               0               0  \n",
       "1        0        0               1               0               0  \n",
       "2        0        0               1               0               0  \n",
       "3        0        0               1               0               0  \n",
       "4        0        0               1               0               0  \n",
       "\n",
       "[5 rows x 35 columns]"
      ]
     },
     "execution_count": 37,
     "metadata": {},
     "output_type": "execute_result"
    }
   ],
   "source": [
    "df_learn.head()"
   ]
  },
  {
   "cell_type": "markdown",
   "metadata": {},
   "source": [
    "> Next, Let's import few classification models and modelling libraries!"
   ]
  },
  {
   "cell_type": "code",
   "execution_count": 38,
   "metadata": {},
   "outputs": [],
   "source": [
    "from sklearn.linear_model import LogisticRegression\n",
    "from sklearn.tree import DecisionTreeClassifier\n",
    "from sklearn.ensemble import RandomForestClassifier, GradientBoostingClassifier\n",
    "from sklearn.neighbors import KNeighborsClassifier\n",
    "from xgboost import XGBClassifier\n",
    "from sklearn.model_selection import train_test_split\n",
    "from sklearn.metrics import accuracy_score, classification_report, recall_score, f1_score"
   ]
  },
  {
   "cell_type": "code",
   "execution_count": 39,
   "metadata": {},
   "outputs": [],
   "source": [
    "models = [LogisticRegression, DecisionTreeClassifier, RandomForestClassifier, GradientBoostingClassifier, \n",
    "          KNeighborsClassifier, XGBClassifier]\n",
    "model_name = ['LogisticRegression', 'DecisionTreeClassifier', 'RandomForestClassifier', 'GradientBoostingClassifier', \n",
    "              'KNeighborsClassifier', 'XGBClassifier']\n",
    "X = df_learn\n",
    "y = df['Status']\n",
    "X_train, X_test, y_train, y_test = train_test_split(X,y,random_state=101)"
   ]
  },
  {
   "cell_type": "markdown",
   "metadata": {},
   "source": [
    "> To achieve best result, We are using this formula. if  result is 1, meaning that our model results all customers of status 0 are predicted not default and all customers of status 1 are predicted default and will be rejected as customers so that our loan amount 100% is returned by customers without loss. This formula exclude interest. "
   ]
  },
  {
   "cell_type": "markdown",
   "metadata": {},
   "source": [
    "$$\n",
    "\\begin{aligned}\n",
    " returned = (recall0 * n0 * m0) + ( (1-recall1) * n1 * m1) / loanedmoney\n",
    "\\end{aligned}\n",
    "$$"
   ]
  },
  {
   "cell_type": "markdown",
   "metadata": {},
   "source": [
    "> with :\n",
    "- n0 : number of people on test data with status 0\n",
    "- n1 : number of people on test data with status 1\n",
    "- m0 : mean of loan amount\n",
    "- m1 : how much loan amount returned until month 17th\n",
    "- loaned_money : sum of loan amount of predicted customer with status 0"
   ]
  },
  {
   "cell_type": "markdown",
   "metadata": {},
   "source": [
    "> Let's see if ther any differences on loan amount between both status"
   ]
  },
  {
   "cell_type": "code",
   "execution_count": 40,
   "metadata": {},
   "outputs": [],
   "source": [
    "from scipy.stats import anderson"
   ]
  },
  {
   "cell_type": "code",
   "execution_count": 41,
   "metadata": {},
   "outputs": [],
   "source": [
    "def normality_anderson_test(categorical_data,numeric_data,dataframe):\n",
    "    stat = []\n",
    "    critic = []\n",
    "    normal = []\n",
    "    for i in dataframe[categorical_data].unique():\n",
    "        data = dataframe[dataframe[categorical_data]==i][numeric_data]\n",
    "        result = anderson(data)\n",
    "        cv = result.critical_values[2]\n",
    "        stat.append(result.statistic)\n",
    "        critic.append(cv)\n",
    "        if result.statistic < cv:\n",
    "            normal.append(True)\n",
    "        else:\n",
    "            normal.append(False)\n",
    "    return pd.DataFrame(zip(stat,critic,normal),columns=['Stat','Critical Value','5%'],\n",
    "                        index=dataframe[categorical_data].unique())"
   ]
  },
  {
   "cell_type": "code",
   "execution_count": 42,
   "metadata": {
    "scrolled": true
   },
   "outputs": [
    {
     "data": {
      "text/html": [
       "<div>\n",
       "<style scoped>\n",
       "    .dataframe tbody tr th:only-of-type {\n",
       "        vertical-align: middle;\n",
       "    }\n",
       "\n",
       "    .dataframe tbody tr th {\n",
       "        vertical-align: top;\n",
       "    }\n",
       "\n",
       "    .dataframe thead th {\n",
       "        text-align: right;\n",
       "    }\n",
       "</style>\n",
       "<table border=\"1\" class=\"dataframe\">\n",
       "  <thead>\n",
       "    <tr style=\"text-align: right;\">\n",
       "      <th></th>\n",
       "      <th>Stat</th>\n",
       "      <th>Critical Value</th>\n",
       "      <th>5%</th>\n",
       "    </tr>\n",
       "  </thead>\n",
       "  <tbody>\n",
       "    <tr>\n",
       "      <td>1</td>\n",
       "      <td>34.170873</td>\n",
       "      <td>0.787</td>\n",
       "      <td>False</td>\n",
       "    </tr>\n",
       "    <tr>\n",
       "      <td>0</td>\n",
       "      <td>76.739084</td>\n",
       "      <td>0.787</td>\n",
       "      <td>False</td>\n",
       "    </tr>\n",
       "  </tbody>\n",
       "</table>\n",
       "</div>"
      ],
      "text/plain": [
       "        Stat  Critical Value     5%\n",
       "1  34.170873           0.787  False\n",
       "0  76.739084           0.787  False"
      ]
     },
     "execution_count": 42,
     "metadata": {},
     "output_type": "execute_result"
    }
   ],
   "source": [
    "df_dum = X_test.copy()\n",
    "df_dum['Status'] = y_test\n",
    "normality_anderson_test('Status','loan_amount',df_dum)"
   ]
  },
  {
   "cell_type": "markdown",
   "metadata": {},
   "source": [
    "> Because data seems not normal and there are 2 groups of data. We will use mannwhitneyu with Hypothesis:\n",
    " - H0 : There are no differences on Loan Amount based on Status.\n",
    " - H1 : There are differences on Loan Amount based on Status."
   ]
  },
  {
   "cell_type": "code",
   "execution_count": 43,
   "metadata": {},
   "outputs": [],
   "source": [
    "from scipy.stats import mannwhitneyu"
   ]
  },
  {
   "cell_type": "code",
   "execution_count": 44,
   "metadata": {
    "scrolled": true
   },
   "outputs": [
    {
     "name": "stdout",
     "output_type": "stream",
     "text": [
      "stat=28342920.500, p=0.500\n",
      "Probably the same distribution\n"
     ]
    }
   ],
   "source": [
    "data1 = df_dum[df_dum['Status']==0]['loan_amount']\n",
    "data2 = data1 = df_dum[df_dum['Status']==1]['loan_amount']\n",
    "stat, p = mannwhitneyu(data1, data2)\n",
    "print('stat=%.3f, p=%.3f' % (stat, p))\n",
    "if p > 0.05:\n",
    "    print('Probably the same distribution')\n",
    "else:\n",
    "    print('Probably different distributions')"
   ]
  },
  {
   "cell_type": "markdown",
   "metadata": {},
   "source": [
    "> Now, do the modelling!"
   ]
  },
  {
   "cell_type": "code",
   "execution_count": 46,
   "metadata": {},
   "outputs": [
    {
     "data": {
      "text/html": [
       "<div>\n",
       "<style scoped>\n",
       "    .dataframe tbody tr th:only-of-type {\n",
       "        vertical-align: middle;\n",
       "    }\n",
       "\n",
       "    .dataframe tbody tr th {\n",
       "        vertical-align: top;\n",
       "    }\n",
       "\n",
       "    .dataframe thead th {\n",
       "        text-align: right;\n",
       "    }\n",
       "</style>\n",
       "<table border=\"1\" class=\"dataframe\">\n",
       "  <thead>\n",
       "    <tr style=\"text-align: right;\">\n",
       "      <th></th>\n",
       "      <th>f1_score train</th>\n",
       "      <th>recall_1 train</th>\n",
       "      <th>f1_score test</th>\n",
       "      <th>recall_1 test</th>\n",
       "      <th>returned</th>\n",
       "    </tr>\n",
       "  </thead>\n",
       "  <tbody>\n",
       "    <tr>\n",
       "      <td>LogisticRegression</td>\n",
       "      <td>0.547550</td>\n",
       "      <td>0.000000</td>\n",
       "      <td>0.555151</td>\n",
       "      <td>0.000000</td>\n",
       "      <td>0.981389</td>\n",
       "    </tr>\n",
       "    <tr>\n",
       "      <td>DecisionTreeClassifier</td>\n",
       "      <td>0.992288</td>\n",
       "      <td>0.977659</td>\n",
       "      <td>0.603038</td>\n",
       "      <td>0.391154</td>\n",
       "      <td>0.983079</td>\n",
       "    </tr>\n",
       "    <tr>\n",
       "      <td>RandomForestClassifier</td>\n",
       "      <td>0.992261</td>\n",
       "      <td>0.984744</td>\n",
       "      <td>0.637143</td>\n",
       "      <td>0.278257</td>\n",
       "      <td>0.983276</td>\n",
       "    </tr>\n",
       "    <tr>\n",
       "      <td>GradientBoostingClassifier</td>\n",
       "      <td>0.598727</td>\n",
       "      <td>0.090320</td>\n",
       "      <td>0.604329</td>\n",
       "      <td>0.090317</td>\n",
       "      <td>0.982202</td>\n",
       "    </tr>\n",
       "    <tr>\n",
       "      <td>KNeighborsClassifier</td>\n",
       "      <td>0.726425</td>\n",
       "      <td>0.430608</td>\n",
       "      <td>0.596742</td>\n",
       "      <td>0.236021</td>\n",
       "      <td>0.981950</td>\n",
       "    </tr>\n",
       "    <tr>\n",
       "      <td>XGBClassifier</td>\n",
       "      <td>0.655643</td>\n",
       "      <td>0.206068</td>\n",
       "      <td>0.628389</td>\n",
       "      <td>0.162571</td>\n",
       "      <td>0.982736</td>\n",
       "    </tr>\n",
       "  </tbody>\n",
       "</table>\n",
       "</div>"
      ],
      "text/plain": [
       "                            f1_score train  recall_1 train  f1_score test  \\\n",
       "LogisticRegression                0.547550        0.000000       0.555151   \n",
       "DecisionTreeClassifier            0.992288        0.977659       0.603038   \n",
       "RandomForestClassifier            0.992261        0.984744       0.637143   \n",
       "GradientBoostingClassifier        0.598727        0.090320       0.604329   \n",
       "KNeighborsClassifier              0.726425        0.430608       0.596742   \n",
       "XGBClassifier                     0.655643        0.206068       0.628389   \n",
       "\n",
       "                            recall_1 test  returned  \n",
       "LogisticRegression               0.000000  0.981389  \n",
       "DecisionTreeClassifier           0.391154  0.983079  \n",
       "RandomForestClassifier           0.278257  0.983276  \n",
       "GradientBoostingClassifier       0.090317  0.982202  \n",
       "KNeighborsClassifier             0.236021  0.981950  \n",
       "XGBClassifier                    0.162571  0.982736  "
      ]
     },
     "execution_count": 46,
     "metadata": {},
     "output_type": "execute_result"
    }
   ],
   "source": [
    "m0 = round(df_dum['loan_amount'].mean())\n",
    "m1 = (m0/17)*16\n",
    "n0 = len(df_dum[df_dum['Status']==0])\n",
    "n1 = len(df_dum[df_dum['Status']==1])\n",
    "f1_train = []\n",
    "f1_test = []\n",
    "rec_train = []\n",
    "rec_test = []\n",
    "returned = []\n",
    "for item in models:\n",
    "    model = item()\n",
    "    model.fit(X_train,y_train)\n",
    "    f1_train.append(f1_score(y_train,model.predict(X_train),average='weighted'))\n",
    "    f1_test.append(f1_score(y_test,model.predict(X_test),average='weighted'))\n",
    "    rec_train.append(recall_score(y_train,model.predict(X_train),average=None)[1])\n",
    "    rec_test.append(recall_score(y_test,model.predict(X_test),average=None)[1])\n",
    "    pred = [1 if i > 0.5 else 0 for i in model.predict_proba(X_test)[:, 1]]\n",
    "    returned.append((((recall_score(y_test,model.predict(X_test),average=None)[0])*n0*m0)+\n",
    "    ((1-(recall_score(y_test,model.predict(X_test),average=None)[1]))*n1*m1))/((pred.count(0))*m0))\n",
    "pd.DataFrame(zip(f1_train,rec_train,f1_test,rec_test,returned),columns=['f1_score train','recall_1 train','f1_score test','recall_1 test','returned'],index=model_name)"
   ]
  },
  {
   "cell_type": "markdown",
   "metadata": {},
   "source": [
    "> We can see that RandomForestClassifier produces perfectly training f1-score, quite good testing f1-score and highest  returned value. From now on, Let's focus to upgrade the model with RandomForestClassifier."
   ]
  },
  {
   "cell_type": "code",
   "execution_count": 47,
   "metadata": {},
   "outputs": [],
   "source": [
    "def output_metric(model):\n",
    "    print(classification_report(y_test,model.predict(X_test)))\n",
    "    pred = [1 if i > 0.5 else 0 for i in model.predict_proba(X_test)[:, 1]]\n",
    "    print('RETURNED VALUE : ',(((recall_score(y_test,model.predict(X_test),average=None)[0])*n0*m0)+\n",
    "    ((1-(recall_score(y_test,model.predict(X_test),average=None)[1]))*n1*m1))/((pred.count(0))*m0))"
   ]
  },
  {
   "cell_type": "code",
   "execution_count": 48,
   "metadata": {
    "scrolled": false
   },
   "outputs": [
    {
     "name": "stdout",
     "output_type": "stream",
     "text": [
      "              precision    recall  f1-score   support\n",
      "\n",
      "           0       0.72      0.84      0.78     16268\n",
      "           1       0.45      0.28      0.35      7529\n",
      "\n",
      "    accuracy                           0.67     23797\n",
      "   macro avg       0.58      0.56      0.56     23797\n",
      "weighted avg       0.63      0.67      0.64     23797\n",
      "\n",
      "RETURNED VALUE :  0.983346959851973\n"
     ]
    }
   ],
   "source": [
    "rfc = RandomForestClassifier(random_state=101)\n",
    "rfc.fit(X_train,y_train)\n",
    "output_metric(rfc)"
   ]
  },
  {
   "cell_type": "markdown",
   "metadata": {},
   "source": [
    "> Try to change threshold based on roc curve"
   ]
  },
  {
   "cell_type": "code",
   "execution_count": 49,
   "metadata": {},
   "outputs": [],
   "source": [
    "from sklearn.metrics import roc_curve,auc"
   ]
  },
  {
   "cell_type": "code",
   "execution_count": 50,
   "metadata": {},
   "outputs": [
    {
     "name": "stdout",
     "output_type": "stream",
     "text": [
      "              precision    recall  f1-score   support\n",
      "\n",
      "           0       0.74      0.65      0.69     16268\n",
      "           1       0.41      0.52      0.45      7529\n",
      "\n",
      "    accuracy                           0.61     23797\n",
      "   macro avg       0.57      0.58      0.57     23797\n",
      "weighted avg       0.64      0.61      0.62     23797\n",
      "\n",
      "AUC :  0.6199284780105893\n",
      "RETURNED VALUE :  0.9849427684245874\n"
     ]
    }
   ],
   "source": [
    "y_proba = rfc.predict_proba(X_test)\n",
    "y_proba = y_proba[:, 1]\n",
    "fpr, tpr, thresholds = roc_curve(y_test, y_proba)\n",
    "J = tpr - fpr\n",
    "ix = np.argmax(J)\n",
    "best_thresh = thresholds[ix]\n",
    "y_pred = [1 if i > best_thresh else 0 for i in y_proba]\n",
    "print(classification_report(y_test,y_pred))\n",
    "print('AUC : ',auc(fpr, tpr))\n",
    "print('RETURNED VALUE : ',(((recall_score(y_test,y_pred,average=None)[0])*n0*m0)+\n",
    "    ((1-(recall_score(y_test,y_pred,average=None)[1]))*n1*m1))/((y_pred.count(0))*m0))"
   ]
  },
  {
   "cell_type": "markdown",
   "metadata": {},
   "source": [
    "> It's increased and as you can see, this model has increased recall 1 (default) value either. Try to improve with RandomizedSearchCV!"
   ]
  },
  {
   "cell_type": "code",
   "execution_count": 51,
   "metadata": {},
   "outputs": [],
   "source": [
    "from sklearn.model_selection import RandomizedSearchCV"
   ]
  },
  {
   "cell_type": "code",
   "execution_count": 52,
   "metadata": {},
   "outputs": [],
   "source": [
    "n_estimators = [int(x) for x in np.linspace(start = 100, stop = 1000, num = 5)]\n",
    "max_features = ['auto', 'sqrt']\n",
    "max_depth = [int(x) for x in np.linspace(10, 30, num = 11)]\n",
    "max_depth.append(None)\n",
    "min_samples_split = [2, 5, 10]\n",
    "min_samples_leaf = [1, 2, 4]\n",
    "bootstrap = [True, False]\n",
    "class_weight = [{0:1,1:2},{0:1,1:3}]\n",
    "random_grid = {'n_estimators': n_estimators,\n",
    "               'max_features': max_features,\n",
    "               'max_depth': max_depth,\n",
    "               'min_samples_split': min_samples_split,\n",
    "               'min_samples_leaf': min_samples_leaf,\n",
    "               'bootstrap': bootstrap,\n",
    "              'class_weight':class_weight}\n",
    "rf_random = RandomizedSearchCV(estimator = RandomForestClassifier(random_state=101), param_distributions = random_grid, \n",
    "                               n_iter = 5, cv = 3, verbose=2, random_state=101)"
   ]
  },
  {
   "cell_type": "code",
   "execution_count": 53,
   "metadata": {
    "collapsed": true
   },
   "outputs": [
    {
     "name": "stdout",
     "output_type": "stream",
     "text": [
      "Fitting 3 folds for each of 5 candidates, totalling 15 fits\n",
      "[CV] n_estimators=550, min_samples_split=2, min_samples_leaf=2, max_features=auto, max_depth=20, class_weight={0: 1, 1: 3}, bootstrap=True \n"
     ]
    },
    {
     "name": "stderr",
     "output_type": "stream",
     "text": [
      "[Parallel(n_jobs=1)]: Using backend SequentialBackend with 1 concurrent workers.\n"
     ]
    },
    {
     "name": "stdout",
     "output_type": "stream",
     "text": [
      "[CV]  n_estimators=550, min_samples_split=2, min_samples_leaf=2, max_features=auto, max_depth=20, class_weight={0: 1, 1: 3}, bootstrap=True, total=  26.2s\n",
      "[CV] n_estimators=550, min_samples_split=2, min_samples_leaf=2, max_features=auto, max_depth=20, class_weight={0: 1, 1: 3}, bootstrap=True \n"
     ]
    },
    {
     "name": "stderr",
     "output_type": "stream",
     "text": [
      "[Parallel(n_jobs=1)]: Done   1 out of   1 | elapsed:   26.1s remaining:    0.0s\n"
     ]
    },
    {
     "name": "stdout",
     "output_type": "stream",
     "text": [
      "[CV]  n_estimators=550, min_samples_split=2, min_samples_leaf=2, max_features=auto, max_depth=20, class_weight={0: 1, 1: 3}, bootstrap=True, total=  26.3s\n",
      "[CV] n_estimators=550, min_samples_split=2, min_samples_leaf=2, max_features=auto, max_depth=20, class_weight={0: 1, 1: 3}, bootstrap=True \n",
      "[CV]  n_estimators=550, min_samples_split=2, min_samples_leaf=2, max_features=auto, max_depth=20, class_weight={0: 1, 1: 3}, bootstrap=True, total=  24.4s\n",
      "[CV] n_estimators=325, min_samples_split=10, min_samples_leaf=1, max_features=auto, max_depth=16, class_weight={0: 1, 1: 3}, bootstrap=True \n",
      "[CV]  n_estimators=325, min_samples_split=10, min_samples_leaf=1, max_features=auto, max_depth=16, class_weight={0: 1, 1: 3}, bootstrap=True, total=  12.3s\n",
      "[CV] n_estimators=325, min_samples_split=10, min_samples_leaf=1, max_features=auto, max_depth=16, class_weight={0: 1, 1: 3}, bootstrap=True \n",
      "[CV]  n_estimators=325, min_samples_split=10, min_samples_leaf=1, max_features=auto, max_depth=16, class_weight={0: 1, 1: 3}, bootstrap=True, total=  12.2s\n",
      "[CV] n_estimators=325, min_samples_split=10, min_samples_leaf=1, max_features=auto, max_depth=16, class_weight={0: 1, 1: 3}, bootstrap=True \n",
      "[CV]  n_estimators=325, min_samples_split=10, min_samples_leaf=1, max_features=auto, max_depth=16, class_weight={0: 1, 1: 3}, bootstrap=True, total=  12.3s\n",
      "[CV] n_estimators=1000, min_samples_split=10, min_samples_leaf=1, max_features=sqrt, max_depth=22, class_weight={0: 1, 1: 2}, bootstrap=True \n",
      "[CV]  n_estimators=1000, min_samples_split=10, min_samples_leaf=1, max_features=sqrt, max_depth=22, class_weight={0: 1, 1: 2}, bootstrap=True, total=  47.6s\n",
      "[CV] n_estimators=1000, min_samples_split=10, min_samples_leaf=1, max_features=sqrt, max_depth=22, class_weight={0: 1, 1: 2}, bootstrap=True \n",
      "[CV]  n_estimators=1000, min_samples_split=10, min_samples_leaf=1, max_features=sqrt, max_depth=22, class_weight={0: 1, 1: 2}, bootstrap=True, total=  47.9s\n",
      "[CV] n_estimators=1000, min_samples_split=10, min_samples_leaf=1, max_features=sqrt, max_depth=22, class_weight={0: 1, 1: 2}, bootstrap=True \n",
      "[CV]  n_estimators=1000, min_samples_split=10, min_samples_leaf=1, max_features=sqrt, max_depth=22, class_weight={0: 1, 1: 2}, bootstrap=True, total=  46.9s\n",
      "[CV] n_estimators=325, min_samples_split=2, min_samples_leaf=4, max_features=auto, max_depth=30, class_weight={0: 1, 1: 3}, bootstrap=False \n",
      "[CV]  n_estimators=325, min_samples_split=2, min_samples_leaf=4, max_features=auto, max_depth=30, class_weight={0: 1, 1: 3}, bootstrap=False, total=  21.2s\n",
      "[CV] n_estimators=325, min_samples_split=2, min_samples_leaf=4, max_features=auto, max_depth=30, class_weight={0: 1, 1: 3}, bootstrap=False \n",
      "[CV]  n_estimators=325, min_samples_split=2, min_samples_leaf=4, max_features=auto, max_depth=30, class_weight={0: 1, 1: 3}, bootstrap=False, total=  21.0s\n",
      "[CV] n_estimators=325, min_samples_split=2, min_samples_leaf=4, max_features=auto, max_depth=30, class_weight={0: 1, 1: 3}, bootstrap=False \n",
      "[CV]  n_estimators=325, min_samples_split=2, min_samples_leaf=4, max_features=auto, max_depth=30, class_weight={0: 1, 1: 3}, bootstrap=False, total=  21.1s\n",
      "[CV] n_estimators=1000, min_samples_split=10, min_samples_leaf=2, max_features=auto, max_depth=28, class_weight={0: 1, 1: 3}, bootstrap=False \n",
      "[CV]  n_estimators=1000, min_samples_split=10, min_samples_leaf=2, max_features=auto, max_depth=28, class_weight={0: 1, 1: 3}, bootstrap=False, total= 1.2min\n",
      "[CV] n_estimators=1000, min_samples_split=10, min_samples_leaf=2, max_features=auto, max_depth=28, class_weight={0: 1, 1: 3}, bootstrap=False \n",
      "[CV]  n_estimators=1000, min_samples_split=10, min_samples_leaf=2, max_features=auto, max_depth=28, class_weight={0: 1, 1: 3}, bootstrap=False, total= 1.2min\n",
      "[CV] n_estimators=1000, min_samples_split=10, min_samples_leaf=2, max_features=auto, max_depth=28, class_weight={0: 1, 1: 3}, bootstrap=False \n",
      "[CV]  n_estimators=1000, min_samples_split=10, min_samples_leaf=2, max_features=auto, max_depth=28, class_weight={0: 1, 1: 3}, bootstrap=False, total= 1.2min\n"
     ]
    },
    {
     "name": "stderr",
     "output_type": "stream",
     "text": [
      "[Parallel(n_jobs=1)]: Done  15 out of  15 | elapsed:  8.8min finished\n"
     ]
    },
    {
     "data": {
      "text/plain": [
       "RandomizedSearchCV(cv=3, error_score=nan,\n",
       "                   estimator=RandomForestClassifier(bootstrap=True,\n",
       "                                                    ccp_alpha=0.0,\n",
       "                                                    class_weight=None,\n",
       "                                                    criterion='gini',\n",
       "                                                    max_depth=None,\n",
       "                                                    max_features='auto',\n",
       "                                                    max_leaf_nodes=None,\n",
       "                                                    max_samples=None,\n",
       "                                                    min_impurity_decrease=0.0,\n",
       "                                                    min_impurity_split=None,\n",
       "                                                    min_samples_leaf=1,\n",
       "                                                    min_samples_split=2,\n",
       "                                                    min_weight_fraction_leaf=0.0,\n",
       "                                                    n_estimators=100,\n",
       "                                                    n_jobs...\n",
       "                   param_distributions={'bootstrap': [True, False],\n",
       "                                        'class_weight': [{0: 1, 1: 2},\n",
       "                                                         {0: 1, 1: 3}],\n",
       "                                        'max_depth': [10, 12, 14, 16, 18, 20,\n",
       "                                                      22, 24, 26, 28, 30,\n",
       "                                                      None],\n",
       "                                        'max_features': ['auto', 'sqrt'],\n",
       "                                        'min_samples_leaf': [1, 2, 4],\n",
       "                                        'min_samples_split': [2, 5, 10],\n",
       "                                        'n_estimators': [100, 325, 550, 775,\n",
       "                                                         1000]},\n",
       "                   pre_dispatch='2*n_jobs', random_state=101, refit=True,\n",
       "                   return_train_score=False, scoring=None, verbose=2)"
      ]
     },
     "execution_count": 53,
     "metadata": {},
     "output_type": "execute_result"
    }
   ],
   "source": [
    "rf_random.fit(X_train,y_train)"
   ]
  },
  {
   "cell_type": "code",
   "execution_count": 54,
   "metadata": {},
   "outputs": [
    {
     "data": {
      "text/plain": [
       "{'n_estimators': 1000,\n",
       " 'min_samples_split': 10,\n",
       " 'min_samples_leaf': 1,\n",
       " 'max_features': 'sqrt',\n",
       " 'max_depth': 22,\n",
       " 'class_weight': {0: 1, 1: 2},\n",
       " 'bootstrap': True}"
      ]
     },
     "execution_count": 54,
     "metadata": {},
     "output_type": "execute_result"
    }
   ],
   "source": [
    "rf_random.best_params_"
   ]
  },
  {
   "cell_type": "code",
   "execution_count": 55,
   "metadata": {},
   "outputs": [
    {
     "name": "stdout",
     "output_type": "stream",
     "text": [
      "              precision    recall  f1-score   support\n",
      "\n",
      "           0       0.76      0.66      0.71     16268\n",
      "           1       0.43      0.56      0.49      7529\n",
      "\n",
      "    accuracy                           0.63     23797\n",
      "   macro avg       0.60      0.61      0.60     23797\n",
      "weighted avg       0.66      0.63      0.64     23797\n",
      "\n",
      "RETURNED VALUE :  0.9860811344686337\n"
     ]
    }
   ],
   "source": [
    "rfc1 = RandomForestClassifier(random_state=101,max_depth=22,n_estimators=1000,min_samples_split=10,min_samples_leaf=1,\n",
    "                            max_features='sqrt',bootstrap=True,class_weight={0:1,1:2})\n",
    "rfc1.fit(X_train,y_train)\n",
    "output_metric(rfc1)"
   ]
  },
  {
   "cell_type": "markdown",
   "metadata": {},
   "source": [
    "> Try again to change threshold!"
   ]
  },
  {
   "cell_type": "code",
   "execution_count": 56,
   "metadata": {},
   "outputs": [
    {
     "name": "stdout",
     "output_type": "stream",
     "text": [
      "              precision    recall  f1-score   support\n",
      "\n",
      "           0       0.78      0.56      0.65     16268\n",
      "           1       0.41      0.67      0.51      7529\n",
      "\n",
      "    accuracy                           0.59     23797\n",
      "   macro avg       0.60      0.61      0.58     23797\n",
      "weighted avg       0.67      0.59      0.61     23797\n",
      "\n",
      "AUC :  0.6588684641172565\n",
      "RETURNED VALUE :  0.9873116775148529\n"
     ]
    }
   ],
   "source": [
    "y_proba1 = rfc1.predict_proba(X_test)\n",
    "y_proba1 = y_proba1[:, 1]\n",
    "fpr1, tpr1, thresholds1 = roc_curve(y_test, y_proba1)\n",
    "J1 = tpr1 - fpr1\n",
    "ix1 = np.argmax(J1)\n",
    "best_thresh1 = thresholds1[ix1]\n",
    "y_pred1 = [1 if i > best_thresh1 else 0 for i in y_proba1]\n",
    "print(classification_report(y_test,y_pred1))\n",
    "print('AUC : ',auc(fpr1, tpr1))\n",
    "print('RETURNED VALUE : ',(((recall_score(y_test,y_pred1,average=None)[0])*n0*m0)+\n",
    "    ((1-(recall_score(y_test,y_pred1,average=None)[1]))*n1*m1))/((y_pred1.count(0))*m0))"
   ]
  },
  {
   "cell_type": "markdown",
   "metadata": {},
   "source": [
    "> It's improved!"
   ]
  },
  {
   "cell_type": "markdown",
   "metadata": {},
   "source": [
    "> Since our data is quite imbalanced, Let's do oversampling with SMOTE!"
   ]
  },
  {
   "cell_type": "code",
   "execution_count": 57,
   "metadata": {},
   "outputs": [],
   "source": [
    "from imblearn.over_sampling import SMOTE"
   ]
  },
  {
   "cell_type": "code",
   "execution_count": 58,
   "metadata": {},
   "outputs": [
    {
     "data": {
      "text/html": [
       "<div>\n",
       "<style scoped>\n",
       "    .dataframe tbody tr th:only-of-type {\n",
       "        vertical-align: middle;\n",
       "    }\n",
       "\n",
       "    .dataframe tbody tr th {\n",
       "        vertical-align: top;\n",
       "    }\n",
       "\n",
       "    .dataframe thead th {\n",
       "        text-align: right;\n",
       "    }\n",
       "</style>\n",
       "<table border=\"1\" class=\"dataframe\">\n",
       "  <thead>\n",
       "    <tr style=\"text-align: right;\">\n",
       "      <th></th>\n",
       "      <th>f1_score train</th>\n",
       "      <th>recall_1 train</th>\n",
       "      <th>f1_score test</th>\n",
       "      <th>recall_1 test</th>\n",
       "      <th>benefit</th>\n",
       "    </tr>\n",
       "  </thead>\n",
       "  <tbody>\n",
       "    <tr>\n",
       "      <td>LogisticRegression</td>\n",
       "      <td>0.379470</td>\n",
       "      <td>0.809232</td>\n",
       "      <td>0.378132</td>\n",
       "      <td>0.807013</td>\n",
       "      <td>0.983139</td>\n",
       "    </tr>\n",
       "    <tr>\n",
       "      <td>DecisionTreeClassifier</td>\n",
       "      <td>0.992164</td>\n",
       "      <td>0.978224</td>\n",
       "      <td>0.596914</td>\n",
       "      <td>0.398991</td>\n",
       "      <td>0.982965</td>\n",
       "    </tr>\n",
       "    <tr>\n",
       "      <td>RandomForestClassifier</td>\n",
       "      <td>0.992027</td>\n",
       "      <td>0.986352</td>\n",
       "      <td>0.637185</td>\n",
       "      <td>0.350113</td>\n",
       "      <td>0.983719</td>\n",
       "    </tr>\n",
       "    <tr>\n",
       "      <td>GradientBoostingClassifier</td>\n",
       "      <td>0.636788</td>\n",
       "      <td>0.375929</td>\n",
       "      <td>0.640385</td>\n",
       "      <td>0.378005</td>\n",
       "      <td>0.984026</td>\n",
       "    </tr>\n",
       "    <tr>\n",
       "      <td>KNeighborsClassifier</td>\n",
       "      <td>0.727729</td>\n",
       "      <td>0.777024</td>\n",
       "      <td>0.545262</td>\n",
       "      <td>0.491566</td>\n",
       "      <td>0.982297</td>\n",
       "    </tr>\n",
       "    <tr>\n",
       "      <td>XGBClassifier</td>\n",
       "      <td>0.671274</td>\n",
       "      <td>0.320989</td>\n",
       "      <td>0.645150</td>\n",
       "      <td>0.275203</td>\n",
       "      <td>0.983473</td>\n",
       "    </tr>\n",
       "  </tbody>\n",
       "</table>\n",
       "</div>"
      ],
      "text/plain": [
       "                            f1_score train  recall_1 train  f1_score test  \\\n",
       "LogisticRegression                0.379470        0.809232       0.378132   \n",
       "DecisionTreeClassifier            0.992164        0.978224       0.596914   \n",
       "RandomForestClassifier            0.992027        0.986352       0.637185   \n",
       "GradientBoostingClassifier        0.636788        0.375929       0.640385   \n",
       "KNeighborsClassifier              0.727729        0.777024       0.545262   \n",
       "XGBClassifier                     0.671274        0.320989       0.645150   \n",
       "\n",
       "                            recall_1 test   benefit  \n",
       "LogisticRegression               0.807013  0.983139  \n",
       "DecisionTreeClassifier           0.398991  0.982965  \n",
       "RandomForestClassifier           0.350113  0.983719  \n",
       "GradientBoostingClassifier       0.378005  0.984026  \n",
       "KNeighborsClassifier             0.491566  0.982297  \n",
       "XGBClassifier                    0.275203  0.983473  "
      ]
     },
     "execution_count": 58,
     "metadata": {},
     "output_type": "execute_result"
    }
   ],
   "source": [
    "f1_train_sm = []\n",
    "f1_test_sm = []\n",
    "rec_train_sm = []\n",
    "rec_test_sm = []\n",
    "returned_sm = []\n",
    "sm = SMOTE(random_state=101)\n",
    "X_sm, y_sm = sm.fit_sample(X_train,y_train)\n",
    "for item in models:\n",
    "    model = item()\n",
    "    model.fit(X_sm, y_sm)\n",
    "    f1_train_sm.append(f1_score(y_train,model.predict(X_train),average='weighted'))\n",
    "    f1_test_sm.append(f1_score(y_test,model.predict(X_test),average='weighted'))\n",
    "    rec_train_sm.append(recall_score(y_train,model.predict(X_train),average=None)[1])\n",
    "    rec_test_sm.append(recall_score(y_test,model.predict(X_test),average=None)[1])\n",
    "    pred_sm = [1 if i > 0.5 else 0 for i in model.predict_proba(X_test)[:, 1]]\n",
    "    returned_sm.append((((recall_score(y_test,model.predict(X_test),average=None)[0])*n0*m0)+\n",
    "    ((1-(recall_score(y_test,model.predict(X_test),average=None)[1]))*n1*m1))/((pred_sm.count(0))*m0))\n",
    "pd.DataFrame(zip(f1_train_sm,rec_train_sm,f1_test_sm,rec_test_sm,returned_sm),columns=['f1_score train','recall_1 train','f1_score test','recall_1 test','benefit'],index=model_name)"
   ]
  },
  {
   "cell_type": "markdown",
   "metadata": {},
   "source": [
    "> Benefit value drops, but RandomForestClassifier once again has the best f1-score for training and quite good f1-score for testing. Let's improve it!"
   ]
  },
  {
   "cell_type": "code",
   "execution_count": 59,
   "metadata": {
    "scrolled": true
   },
   "outputs": [
    {
     "name": "stdout",
     "output_type": "stream",
     "text": [
      "              precision    recall  f1-score   support\n",
      "\n",
      "           0       0.72      0.78      0.75     16268\n",
      "           1       0.43      0.36      0.39      7529\n",
      "\n",
      "    accuracy                           0.65     23797\n",
      "   macro avg       0.58      0.57      0.57     23797\n",
      "weighted avg       0.63      0.65      0.64     23797\n",
      "\n",
      "RETURNED VALUE :  0.9837702829668217\n"
     ]
    }
   ],
   "source": [
    "rfc2 = RandomForestClassifier(random_state=101)\n",
    "rfc2.fit(X_sm, y_sm)\n",
    "output_metric(rfc2)"
   ]
  },
  {
   "cell_type": "code",
   "execution_count": 60,
   "metadata": {},
   "outputs": [
    {
     "name": "stdout",
     "output_type": "stream",
     "text": [
      "              precision    recall  f1-score   support\n",
      "\n",
      "           0       0.76      0.51      0.61     16268\n",
      "           1       0.38      0.65      0.48      7529\n",
      "\n",
      "    accuracy                           0.55     23797\n",
      "   macro avg       0.57      0.58      0.55     23797\n",
      "weighted avg       0.64      0.55      0.57     23797\n",
      "\n",
      "AUC :  0.6148741381697188\n",
      "RETURNED VALUE :  0.985790303719518\n"
     ]
    }
   ],
   "source": [
    "y_proba_sm = rfc2.predict_proba(X_test)\n",
    "y_proba_sm = y_proba_sm[:, 1]\n",
    "fpr_sm, tpr_sm, thresholds_sm = roc_curve(y_test, y_proba_sm)\n",
    "J_sm = tpr_sm - fpr_sm\n",
    "ix_sm = np.argmax(J_sm)\n",
    "best_thresh_sm = thresholds_sm[ix_sm]\n",
    "y_pred_sm = [1 if i > best_thresh_sm else 0 for i in y_proba_sm]\n",
    "print(classification_report(y_test,y_pred_sm))\n",
    "print('AUC : ',auc(fpr_sm, tpr_sm))\n",
    "print('RETURNED VALUE : ',((((recall_score(y_test,y_pred_sm,average=None)[0])*n0*m0)+\n",
    "    ((1-(recall_score(y_test,y_pred_sm,average=None)[1]))*n1*m1))/((y_pred_sm.count(0))*m0)))"
   ]
  },
  {
   "cell_type": "code",
   "execution_count": 61,
   "metadata": {
    "collapsed": true
   },
   "outputs": [
    {
     "name": "stdout",
     "output_type": "stream",
     "text": [
      "Fitting 3 folds for each of 5 candidates, totalling 15 fits\n",
      "[CV] n_estimators=550, min_samples_split=2, min_samples_leaf=2, max_features=auto, max_depth=20, class_weight={0: 1, 1: 3}, bootstrap=True \n"
     ]
    },
    {
     "name": "stderr",
     "output_type": "stream",
     "text": [
      "[Parallel(n_jobs=1)]: Using backend SequentialBackend with 1 concurrent workers.\n"
     ]
    },
    {
     "name": "stdout",
     "output_type": "stream",
     "text": [
      "[CV]  n_estimators=550, min_samples_split=2, min_samples_leaf=2, max_features=auto, max_depth=20, class_weight={0: 1, 1: 3}, bootstrap=True, total=  35.2s\n",
      "[CV] n_estimators=550, min_samples_split=2, min_samples_leaf=2, max_features=auto, max_depth=20, class_weight={0: 1, 1: 3}, bootstrap=True \n"
     ]
    },
    {
     "name": "stderr",
     "output_type": "stream",
     "text": [
      "[Parallel(n_jobs=1)]: Done   1 out of   1 | elapsed:   35.1s remaining:    0.0s\n"
     ]
    },
    {
     "name": "stdout",
     "output_type": "stream",
     "text": [
      "[CV]  n_estimators=550, min_samples_split=2, min_samples_leaf=2, max_features=auto, max_depth=20, class_weight={0: 1, 1: 3}, bootstrap=True, total=  35.5s\n",
      "[CV] n_estimators=550, min_samples_split=2, min_samples_leaf=2, max_features=auto, max_depth=20, class_weight={0: 1, 1: 3}, bootstrap=True \n",
      "[CV]  n_estimators=550, min_samples_split=2, min_samples_leaf=2, max_features=auto, max_depth=20, class_weight={0: 1, 1: 3}, bootstrap=True, total=  35.6s\n",
      "[CV] n_estimators=325, min_samples_split=10, min_samples_leaf=1, max_features=auto, max_depth=16, class_weight={0: 1, 1: 3}, bootstrap=True \n",
      "[CV]  n_estimators=325, min_samples_split=10, min_samples_leaf=1, max_features=auto, max_depth=16, class_weight={0: 1, 1: 3}, bootstrap=True, total=  18.0s\n",
      "[CV] n_estimators=325, min_samples_split=10, min_samples_leaf=1, max_features=auto, max_depth=16, class_weight={0: 1, 1: 3}, bootstrap=True \n",
      "[CV]  n_estimators=325, min_samples_split=10, min_samples_leaf=1, max_features=auto, max_depth=16, class_weight={0: 1, 1: 3}, bootstrap=True, total=  17.6s\n",
      "[CV] n_estimators=325, min_samples_split=10, min_samples_leaf=1, max_features=auto, max_depth=16, class_weight={0: 1, 1: 3}, bootstrap=True \n",
      "[CV]  n_estimators=325, min_samples_split=10, min_samples_leaf=1, max_features=auto, max_depth=16, class_weight={0: 1, 1: 3}, bootstrap=True, total=  17.6s\n",
      "[CV] n_estimators=1000, min_samples_split=10, min_samples_leaf=1, max_features=sqrt, max_depth=22, class_weight={0: 1, 1: 2}, bootstrap=True \n",
      "[CV]  n_estimators=1000, min_samples_split=10, min_samples_leaf=1, max_features=sqrt, max_depth=22, class_weight={0: 1, 1: 2}, bootstrap=True, total= 1.2min\n",
      "[CV] n_estimators=1000, min_samples_split=10, min_samples_leaf=1, max_features=sqrt, max_depth=22, class_weight={0: 1, 1: 2}, bootstrap=True \n",
      "[CV]  n_estimators=1000, min_samples_split=10, min_samples_leaf=1, max_features=sqrt, max_depth=22, class_weight={0: 1, 1: 2}, bootstrap=True, total= 1.2min\n",
      "[CV] n_estimators=1000, min_samples_split=10, min_samples_leaf=1, max_features=sqrt, max_depth=22, class_weight={0: 1, 1: 2}, bootstrap=True \n",
      "[CV]  n_estimators=1000, min_samples_split=10, min_samples_leaf=1, max_features=sqrt, max_depth=22, class_weight={0: 1, 1: 2}, bootstrap=True, total= 1.2min\n",
      "[CV] n_estimators=325, min_samples_split=2, min_samples_leaf=4, max_features=auto, max_depth=30, class_weight={0: 1, 1: 3}, bootstrap=False \n",
      "[CV]  n_estimators=325, min_samples_split=2, min_samples_leaf=4, max_features=auto, max_depth=30, class_weight={0: 1, 1: 3}, bootstrap=False, total=  32.4s\n",
      "[CV] n_estimators=325, min_samples_split=2, min_samples_leaf=4, max_features=auto, max_depth=30, class_weight={0: 1, 1: 3}, bootstrap=False \n",
      "[CV]  n_estimators=325, min_samples_split=2, min_samples_leaf=4, max_features=auto, max_depth=30, class_weight={0: 1, 1: 3}, bootstrap=False, total=  31.8s\n",
      "[CV] n_estimators=325, min_samples_split=2, min_samples_leaf=4, max_features=auto, max_depth=30, class_weight={0: 1, 1: 3}, bootstrap=False \n",
      "[CV]  n_estimators=325, min_samples_split=2, min_samples_leaf=4, max_features=auto, max_depth=30, class_weight={0: 1, 1: 3}, bootstrap=False, total=  32.4s\n",
      "[CV] n_estimators=1000, min_samples_split=10, min_samples_leaf=2, max_features=auto, max_depth=28, class_weight={0: 1, 1: 3}, bootstrap=False \n",
      "[CV]  n_estimators=1000, min_samples_split=10, min_samples_leaf=2, max_features=auto, max_depth=28, class_weight={0: 1, 1: 3}, bootstrap=False, total= 1.8min\n",
      "[CV] n_estimators=1000, min_samples_split=10, min_samples_leaf=2, max_features=auto, max_depth=28, class_weight={0: 1, 1: 3}, bootstrap=False \n",
      "[CV]  n_estimators=1000, min_samples_split=10, min_samples_leaf=2, max_features=auto, max_depth=28, class_weight={0: 1, 1: 3}, bootstrap=False, total= 1.7min\n",
      "[CV] n_estimators=1000, min_samples_split=10, min_samples_leaf=2, max_features=auto, max_depth=28, class_weight={0: 1, 1: 3}, bootstrap=False \n",
      "[CV]  n_estimators=1000, min_samples_split=10, min_samples_leaf=2, max_features=auto, max_depth=28, class_weight={0: 1, 1: 3}, bootstrap=False, total= 2.0min\n"
     ]
    },
    {
     "name": "stderr",
     "output_type": "stream",
     "text": [
      "[Parallel(n_jobs=1)]: Done  15 out of  15 | elapsed: 13.3min finished\n"
     ]
    },
    {
     "data": {
      "text/plain": [
       "RandomizedSearchCV(cv=3, error_score=nan,\n",
       "                   estimator=RandomForestClassifier(bootstrap=True,\n",
       "                                                    ccp_alpha=0.0,\n",
       "                                                    class_weight=None,\n",
       "                                                    criterion='gini',\n",
       "                                                    max_depth=None,\n",
       "                                                    max_features='auto',\n",
       "                                                    max_leaf_nodes=None,\n",
       "                                                    max_samples=None,\n",
       "                                                    min_impurity_decrease=0.0,\n",
       "                                                    min_impurity_split=None,\n",
       "                                                    min_samples_leaf=1,\n",
       "                                                    min_samples_split=2,\n",
       "                                                    min_weight_fraction_leaf=0.0,\n",
       "                                                    n_estimators=100,\n",
       "                                                    n_jobs...\n",
       "                   param_distributions={'bootstrap': [True, False],\n",
       "                                        'class_weight': [{0: 1, 1: 2},\n",
       "                                                         {0: 1, 1: 3}],\n",
       "                                        'max_depth': [10, 12, 14, 16, 18, 20,\n",
       "                                                      22, 24, 26, 28, 30,\n",
       "                                                      None],\n",
       "                                        'max_features': ['auto', 'sqrt'],\n",
       "                                        'min_samples_leaf': [1, 2, 4],\n",
       "                                        'min_samples_split': [2, 5, 10],\n",
       "                                        'n_estimators': [100, 325, 550, 775,\n",
       "                                                         1000]},\n",
       "                   pre_dispatch='2*n_jobs', random_state=101, refit=True,\n",
       "                   return_train_score=False, scoring=None, verbose=2)"
      ]
     },
     "execution_count": 61,
     "metadata": {},
     "output_type": "execute_result"
    }
   ],
   "source": [
    "rf_random.fit(X_sm, y_sm)"
   ]
  },
  {
   "cell_type": "code",
   "execution_count": 62,
   "metadata": {},
   "outputs": [
    {
     "data": {
      "text/plain": [
       "{'n_estimators': 1000,\n",
       " 'min_samples_split': 10,\n",
       " 'min_samples_leaf': 1,\n",
       " 'max_features': 'sqrt',\n",
       " 'max_depth': 22,\n",
       " 'class_weight': {0: 1, 1: 2},\n",
       " 'bootstrap': True}"
      ]
     },
     "execution_count": 62,
     "metadata": {},
     "output_type": "execute_result"
    }
   ],
   "source": [
    "rf_random.best_params_"
   ]
  },
  {
   "cell_type": "code",
   "execution_count": 63,
   "metadata": {},
   "outputs": [
    {
     "name": "stdout",
     "output_type": "stream",
     "text": [
      "              precision    recall  f1-score   support\n",
      "\n",
      "           0       0.79      0.53      0.63     16268\n",
      "           1       0.40      0.70      0.51      7529\n",
      "\n",
      "    accuracy                           0.58     23797\n",
      "   macro avg       0.60      0.61      0.57     23797\n",
      "weighted avg       0.67      0.58      0.59     23797\n",
      "\n",
      "RETURNED VALUE :  0.9875510347931227\n"
     ]
    }
   ],
   "source": [
    "rfc3 = RandomForestClassifier(random_state=101,max_depth=22,n_estimators=1000,min_samples_split=10,min_samples_leaf=1,\n",
    "                            max_features='sqrt',bootstrap=True,class_weight={0:1,1:2})\n",
    "rfc3.fit(X_sm,y_sm)\n",
    "output_metric(rfc3)"
   ]
  },
  {
   "cell_type": "code",
   "execution_count": 64,
   "metadata": {},
   "outputs": [
    {
     "name": "stdout",
     "output_type": "stream",
     "text": [
      "              precision    recall  f1-score   support\n",
      "\n",
      "           0       0.80      0.50      0.61     16268\n",
      "           1       0.40      0.72      0.52      7529\n",
      "\n",
      "    accuracy                           0.57     23797\n",
      "   macro avg       0.60      0.61      0.56     23797\n",
      "weighted avg       0.67      0.57      0.58     23797\n",
      "\n",
      "AUC :  0.6533368899986196\n",
      "RETURNED VALUE :  0.9879819181710864\n"
     ]
    }
   ],
   "source": [
    "y_proba_sm1 = rfc3.predict_proba(X_test)\n",
    "y_proba_sm1 = y_proba_sm1[:, 1]\n",
    "fpr_sm1, tpr_sm1, thresholds_sm1 = roc_curve(y_test, y_proba_sm1)\n",
    "J_sm1 = tpr_sm1 - fpr_sm1\n",
    "ix_sm1 = np.argmax(J_sm1)\n",
    "best_thresh_sm1 = thresholds_sm1[ix_sm1]\n",
    "y_pred_sm1 = [1 if i > best_thresh_sm1 else 0 for i in y_proba_sm1]\n",
    "print(classification_report(y_test,y_pred_sm1))\n",
    "print('AUC : ',auc(fpr_sm1, tpr_sm1))\n",
    "print('RETURNED VALUE : ',((((recall_score(y_test,y_pred_sm1,average=None)[0])*n0*m0)+\n",
    "    ((1-(recall_score(y_test,y_pred_sm1,average=None)[1]))*n1*m1))/((y_pred_sm1.count(0))*m0)))"
   ]
  },
  {
   "cell_type": "code",
   "execution_count": 65,
   "metadata": {},
   "outputs": [
    {
     "data": {
      "text/plain": [
       "0.4862625792905006"
      ]
     },
     "execution_count": 65,
     "metadata": {},
     "output_type": "execute_result"
    }
   ],
   "source": [
    "best_thresh_sm1"
   ]
  },
  {
   "cell_type": "markdown",
   "metadata": {},
   "source": [
    "> I think we have found best metrics that produces return value = 0.987"
   ]
  },
  {
   "cell_type": "code",
   "execution_count": 66,
   "metadata": {
    "scrolled": false
   },
   "outputs": [
    {
     "data": {
      "image/png": "[encoded data removed]",
      "text/plain": [
       "<Figure size 936x504 with 1 Axes>"
      ]
     },
     "metadata": {
      "needs_background": "light"
     },
     "output_type": "display_data"
    }
   ],
   "source": [
    "plt.figure(figsize=(13,7))\n",
    "importance = pd.DataFrame(rfc3.feature_importances_, columns=['importance'])\n",
    "importance['Feature'] = X.columns\n",
    "sns.barplot(data=importance.sort_values(by=['importance'],ascending=False),x='importance',y='Feature')\n",
    "plt.title('Feature Importance')\n",
    "plt.show()"
   ]
  },
  {
   "cell_type": "markdown",
   "metadata": {},
   "source": [
    "> From the graph above loan amount, age, monthly expense, family size, and province seems to be top important features"
   ]
  },
  {
   "cell_type": "markdown",
   "metadata": {},
   "source": [
    "## Statistic Test"
   ]
  },
  {
   "cell_type": "markdown",
   "metadata": {},
   "source": [
    "> Let's do a little statistic test to loan amount"
   ]
  },
  {
   "cell_type": "code",
   "execution_count": 67,
   "metadata": {},
   "outputs": [
    {
     "data": {
      "text/html": [
       "<div>\n",
       "<style scoped>\n",
       "    .dataframe tbody tr th:only-of-type {\n",
       "        vertical-align: middle;\n",
       "    }\n",
       "\n",
       "    .dataframe tbody tr th {\n",
       "        vertical-align: top;\n",
       "    }\n",
       "\n",
       "    .dataframe thead th {\n",
       "        text-align: right;\n",
       "    }\n",
       "</style>\n",
       "<table border=\"1\" class=\"dataframe\">\n",
       "  <thead>\n",
       "    <tr style=\"text-align: right;\">\n",
       "      <th></th>\n",
       "      <th>user_id</th>\n",
       "      <th>family_size</th>\n",
       "      <th>contract_type</th>\n",
       "      <th>birth_date</th>\n",
       "      <th>is_male</th>\n",
       "      <th>province</th>\n",
       "      <th>age</th>\n",
       "      <th>group</th>\n",
       "      <th>history_type</th>\n",
       "      <th>monthly_expense</th>\n",
       "      <th>loan_amount</th>\n",
       "    </tr>\n",
       "  </thead>\n",
       "  <tbody>\n",
       "    <tr>\n",
       "      <td>0</td>\n",
       "      <td>821302</td>\n",
       "      <td>0.0</td>\n",
       "      <td>A</td>\n",
       "      <td>1987</td>\n",
       "      <td>female</td>\n",
       "      <td>A</td>\n",
       "      <td>24.0</td>\n",
       "      <td>A</td>\n",
       "      <td>A</td>\n",
       "      <td>14500.0</td>\n",
       "      <td>187956</td>\n",
       "    </tr>\n",
       "    <tr>\n",
       "      <td>1</td>\n",
       "      <td>821429</td>\n",
       "      <td>0.0</td>\n",
       "      <td>B</td>\n",
       "      <td>1982</td>\n",
       "      <td>male</td>\n",
       "      <td>A</td>\n",
       "      <td>30.0</td>\n",
       "      <td>B</td>\n",
       "      <td>B</td>\n",
       "      <td>26000.0</td>\n",
       "      <td>170049</td>\n",
       "    </tr>\n",
       "    <tr>\n",
       "      <td>2</td>\n",
       "      <td>821637</td>\n",
       "      <td>0.0</td>\n",
       "      <td>C</td>\n",
       "      <td>1969</td>\n",
       "      <td>male</td>\n",
       "      <td>A</td>\n",
       "      <td>42.0</td>\n",
       "      <td>B</td>\n",
       "      <td>B</td>\n",
       "      <td>30000.0</td>\n",
       "      <td>108378</td>\n",
       "    </tr>\n",
       "    <tr>\n",
       "      <td>3</td>\n",
       "      <td>827397</td>\n",
       "      <td>0.0</td>\n",
       "      <td>D</td>\n",
       "      <td>1970</td>\n",
       "      <td>female</td>\n",
       "      <td>A</td>\n",
       "      <td>41.0</td>\n",
       "      <td>B</td>\n",
       "      <td>B</td>\n",
       "      <td>20000.0</td>\n",
       "      <td>134934</td>\n",
       "    </tr>\n",
       "    <tr>\n",
       "      <td>4</td>\n",
       "      <td>827555</td>\n",
       "      <td>0.0</td>\n",
       "      <td>D</td>\n",
       "      <td>1977</td>\n",
       "      <td>male</td>\n",
       "      <td>A</td>\n",
       "      <td>34.0</td>\n",
       "      <td>B</td>\n",
       "      <td>B</td>\n",
       "      <td>20000.0</td>\n",
       "      <td>166482</td>\n",
       "    </tr>\n",
       "    <tr>\n",
       "      <td>...</td>\n",
       "      <td>...</td>\n",
       "      <td>...</td>\n",
       "      <td>...</td>\n",
       "      <td>...</td>\n",
       "      <td>...</td>\n",
       "      <td>...</td>\n",
       "      <td>...</td>\n",
       "      <td>...</td>\n",
       "      <td>...</td>\n",
       "      <td>...</td>\n",
       "      <td>...</td>\n",
       "    </tr>\n",
       "    <tr>\n",
       "      <td>95183</td>\n",
       "      <td>956634</td>\n",
       "      <td>3.0</td>\n",
       "      <td>E</td>\n",
       "      <td>1981</td>\n",
       "      <td>male</td>\n",
       "      <td>T</td>\n",
       "      <td>30.0</td>\n",
       "      <td>B</td>\n",
       "      <td>A</td>\n",
       "      <td>20000.0</td>\n",
       "      <td>128235</td>\n",
       "    </tr>\n",
       "    <tr>\n",
       "      <td>95184</td>\n",
       "      <td>956641</td>\n",
       "      <td>2.0</td>\n",
       "      <td>B</td>\n",
       "      <td>1980</td>\n",
       "      <td>male</td>\n",
       "      <td>T</td>\n",
       "      <td>32.0</td>\n",
       "      <td>B</td>\n",
       "      <td>A</td>\n",
       "      <td>15000.0</td>\n",
       "      <td>143730</td>\n",
       "    </tr>\n",
       "    <tr>\n",
       "      <td>95185</td>\n",
       "      <td>956643</td>\n",
       "      <td>1.0</td>\n",
       "      <td>B</td>\n",
       "      <td>1985</td>\n",
       "      <td>male</td>\n",
       "      <td>T</td>\n",
       "      <td>27.0</td>\n",
       "      <td>B</td>\n",
       "      <td>C</td>\n",
       "      <td>12000.0</td>\n",
       "      <td>152187</td>\n",
       "    </tr>\n",
       "    <tr>\n",
       "      <td>95186</td>\n",
       "      <td>956644</td>\n",
       "      <td>0.0</td>\n",
       "      <td>E</td>\n",
       "      <td>1980</td>\n",
       "      <td>male</td>\n",
       "      <td>T</td>\n",
       "      <td>32.0</td>\n",
       "      <td>B</td>\n",
       "      <td>C</td>\n",
       "      <td>20000.0</td>\n",
       "      <td>151545</td>\n",
       "    </tr>\n",
       "    <tr>\n",
       "      <td>95187</td>\n",
       "      <td>956917</td>\n",
       "      <td>0.0</td>\n",
       "      <td>E</td>\n",
       "      <td>1968</td>\n",
       "      <td>male</td>\n",
       "      <td>T</td>\n",
       "      <td>44.0</td>\n",
       "      <td>B</td>\n",
       "      <td>B</td>\n",
       "      <td>12000.0</td>\n",
       "      <td>165192</td>\n",
       "    </tr>\n",
       "  </tbody>\n",
       "</table>\n",
       "<p>95188 rows × 11 columns</p>\n",
       "</div>"
      ],
      "text/plain": [
       "       user_id  family_size contract_type  birth_date is_male province   age  \\\n",
       "0       821302          0.0             A        1987  female        A  24.0   \n",
       "1       821429          0.0             B        1982    male        A  30.0   \n",
       "2       821637          0.0             C        1969    male        A  42.0   \n",
       "3       827397          0.0             D        1970  female        A  41.0   \n",
       "4       827555          0.0             D        1977    male        A  34.0   \n",
       "...        ...          ...           ...         ...     ...      ...   ...   \n",
       "95183   956634          3.0             E        1981    male        T  30.0   \n",
       "95184   956641          2.0             B        1980    male        T  32.0   \n",
       "95185   956643          1.0             B        1985    male        T  27.0   \n",
       "95186   956644          0.0             E        1980    male        T  32.0   \n",
       "95187   956917          0.0             E        1968    male        T  44.0   \n",
       "\n",
       "      group history_type  monthly_expense  loan_amount  \n",
       "0         A            A          14500.0       187956  \n",
       "1         B            B          26000.0       170049  \n",
       "2         B            B          30000.0       108378  \n",
       "3         B            B          20000.0       134934  \n",
       "4         B            B          20000.0       166482  \n",
       "...     ...          ...              ...          ...  \n",
       "95183     B            A          20000.0       128235  \n",
       "95184     B            A          15000.0       143730  \n",
       "95185     B            C          12000.0       152187  \n",
       "95186     B            C          20000.0       151545  \n",
       "95187     B            B          12000.0       165192  \n",
       "\n",
       "[95188 rows x 11 columns]"
      ]
     },
     "execution_count": 67,
     "metadata": {},
     "output_type": "execute_result"
    }
   ],
   "source": [
    "df_stat = df.drop(['Status'],axis=1)\n",
    "df_stat"
   ]
  },
  {
   "cell_type": "markdown",
   "metadata": {},
   "source": [
    "> First, Try to see loan amount with gender"
   ]
  },
  {
   "cell_type": "code",
   "execution_count": 68,
   "metadata": {
    "scrolled": true
   },
   "outputs": [
    {
     "data": {
      "text/html": [
       "<div>\n",
       "<style scoped>\n",
       "    .dataframe tbody tr th:only-of-type {\n",
       "        vertical-align: middle;\n",
       "    }\n",
       "\n",
       "    .dataframe tbody tr th {\n",
       "        vertical-align: top;\n",
       "    }\n",
       "\n",
       "    .dataframe thead th {\n",
       "        text-align: right;\n",
       "    }\n",
       "</style>\n",
       "<table border=\"1\" class=\"dataframe\">\n",
       "  <thead>\n",
       "    <tr style=\"text-align: right;\">\n",
       "      <th></th>\n",
       "      <th>Stat</th>\n",
       "      <th>Critical Value</th>\n",
       "      <th>5%</th>\n",
       "    </tr>\n",
       "  </thead>\n",
       "  <tbody>\n",
       "    <tr>\n",
       "      <td>female</td>\n",
       "      <td>45.316149</td>\n",
       "      <td>0.787</td>\n",
       "      <td>False</td>\n",
       "    </tr>\n",
       "    <tr>\n",
       "      <td>male</td>\n",
       "      <td>406.381959</td>\n",
       "      <td>0.787</td>\n",
       "      <td>False</td>\n",
       "    </tr>\n",
       "  </tbody>\n",
       "</table>\n",
       "</div>"
      ],
      "text/plain": [
       "              Stat  Critical Value     5%\n",
       "female   45.316149           0.787  False\n",
       "male    406.381959           0.787  False"
      ]
     },
     "execution_count": 68,
     "metadata": {},
     "output_type": "execute_result"
    }
   ],
   "source": [
    "normality_anderson_test('is_male','loan_amount',df_stat)"
   ]
  },
  {
   "cell_type": "markdown",
   "metadata": {},
   "source": [
    "> Because data seems not normal and there are 2 groups of data. We will use mannwhitneyu with Hypothesis:\n",
    " - H0 : There are no differences on Loan Amount based on Gender.\n",
    " - H1 : There are differences on Loan Amount based on Gender."
   ]
  },
  {
   "cell_type": "code",
   "execution_count": 69,
   "metadata": {},
   "outputs": [
    {
     "name": "stdout",
     "output_type": "stream",
     "text": [
      "stat=35036820.500, p=0.500\n",
      "Probably the same distribution\n"
     ]
    }
   ],
   "source": [
    "data1 = df_stat[df_stat['is_male']=='male']['loan_amount']\n",
    "data2 = data1 = df_stat[df_stat['is_male']=='female']['loan_amount']\n",
    "stat, p = mannwhitneyu(data1, data2)\n",
    "print('stat=%.3f, p=%.3f' % (stat, p))\n",
    "if p > 0.05:\n",
    "    print('Probably the same distribution')\n",
    "else:\n",
    "    print('Probably different distributions')"
   ]
  },
  {
   "cell_type": "markdown",
   "metadata": {},
   "source": [
    "> So, we fails to reject H0."
   ]
  },
  {
   "cell_type": "code",
   "execution_count": 70,
   "metadata": {
    "scrolled": true
   },
   "outputs": [
    {
     "data": {
      "image/png": "[encoded data removed]",
      "text/plain": [
       "<Figure size 432x288 with 1 Axes>"
      ]
     },
     "metadata": {
      "needs_background": "light"
     },
     "output_type": "display_data"
    }
   ],
   "source": [
    "sns.barplot(x='loan_amount',y='is_male',data=df_stat)\n",
    "plt.show()"
   ]
  },
  {
   "cell_type": "markdown",
   "metadata": {},
   "source": [
    "> Second, Let's See loan amount based on generation. From 'birth_date' columns, create new columns called 'Generations' whom filled by Millenials (birth year : 1981-1994) or Gen X (birth year : 1965-1980)"
   ]
  },
  {
   "cell_type": "code",
   "execution_count": 71,
   "metadata": {
    "scrolled": true
   },
   "outputs": [],
   "source": [
    "df_stat['Generation'] = df_stat['birth_date'].apply(lambda x : 'Millenials' if 1981 <= x <=1994 else 'Gen X')"
   ]
  },
  {
   "cell_type": "code",
   "execution_count": 72,
   "metadata": {
    "scrolled": true
   },
   "outputs": [
    {
     "data": {
      "text/html": [
       "<div>\n",
       "<style scoped>\n",
       "    .dataframe tbody tr th:only-of-type {\n",
       "        vertical-align: middle;\n",
       "    }\n",
       "\n",
       "    .dataframe tbody tr th {\n",
       "        vertical-align: top;\n",
       "    }\n",
       "\n",
       "    .dataframe thead th {\n",
       "        text-align: right;\n",
       "    }\n",
       "</style>\n",
       "<table border=\"1\" class=\"dataframe\">\n",
       "  <thead>\n",
       "    <tr style=\"text-align: right;\">\n",
       "      <th></th>\n",
       "      <th>Stat</th>\n",
       "      <th>Critical Value</th>\n",
       "      <th>5%</th>\n",
       "    </tr>\n",
       "  </thead>\n",
       "  <tbody>\n",
       "    <tr>\n",
       "      <td>Millenials</td>\n",
       "      <td>210.753201</td>\n",
       "      <td>0.787</td>\n",
       "      <td>False</td>\n",
       "    </tr>\n",
       "    <tr>\n",
       "      <td>Gen X</td>\n",
       "      <td>235.242051</td>\n",
       "      <td>0.787</td>\n",
       "      <td>False</td>\n",
       "    </tr>\n",
       "  </tbody>\n",
       "</table>\n",
       "</div>"
      ],
      "text/plain": [
       "                  Stat  Critical Value     5%\n",
       "Millenials  210.753201           0.787  False\n",
       "Gen X       235.242051           0.787  False"
      ]
     },
     "execution_count": 72,
     "metadata": {},
     "output_type": "execute_result"
    }
   ],
   "source": [
    "normality_anderson_test('Generation','loan_amount',df_stat)"
   ]
  },
  {
   "cell_type": "markdown",
   "metadata": {},
   "source": [
    "> Because data seems not normal and there are 2 groups of data. We will use mannwhitneyu with Hypotesis:\n",
    " - H0 : There are no differences on Loan Amount based on Generation.\n",
    " - H1 : There are differences on Loan Amount based on Generation."
   ]
  },
  {
   "cell_type": "code",
   "execution_count": 73,
   "metadata": {},
   "outputs": [
    {
     "name": "stdout",
     "output_type": "stream",
     "text": [
      "stat=1139553800.000, p=0.500\n",
      "Probably the same distribution\n"
     ]
    }
   ],
   "source": [
    "data1 = df_stat[df_stat['Generation']=='Millenials']['loan_amount']\n",
    "data2 = data1 = df_stat[df_stat['Generation']=='Gen X']['loan_amount']\n",
    "stat, p = mannwhitneyu(data1, data2)\n",
    "print('stat=%.3f, p=%.3f' % (stat, p))\n",
    "if p > 0.05:\n",
    "    print('Probably the same distribution')\n",
    "else:\n",
    "    print('Probably different distributions')"
   ]
  },
  {
   "cell_type": "markdown",
   "metadata": {},
   "source": [
    "> So, we fails to reject H0."
   ]
  },
  {
   "cell_type": "code",
   "execution_count": 74,
   "metadata": {
    "scrolled": true
   },
   "outputs": [
    {
     "data": {
      "image/png": "[encoded data removed]",
      "text/plain": [
       "<Figure size 432x288 with 1 Axes>"
      ]
     },
     "metadata": {
      "needs_background": "light"
     },
     "output_type": "display_data"
    }
   ],
   "source": [
    "sns.barplot(x='loan_amount',y='Generation',data=df_stat)\n",
    "plt.show()"
   ]
  },
  {
   "cell_type": "markdown",
   "metadata": {},
   "source": [
    "> Third, Try to look loan amount based on province."
   ]
  },
  {
   "cell_type": "code",
   "execution_count": 75,
   "metadata": {},
   "outputs": [
    {
     "data": {
      "text/html": [
       "<div>\n",
       "<style scoped>\n",
       "    .dataframe tbody tr th:only-of-type {\n",
       "        vertical-align: middle;\n",
       "    }\n",
       "\n",
       "    .dataframe tbody tr th {\n",
       "        vertical-align: top;\n",
       "    }\n",
       "\n",
       "    .dataframe thead th {\n",
       "        text-align: right;\n",
       "    }\n",
       "</style>\n",
       "<table border=\"1\" class=\"dataframe\">\n",
       "  <thead>\n",
       "    <tr style=\"text-align: right;\">\n",
       "      <th></th>\n",
       "      <th>Stat</th>\n",
       "      <th>Critical Value</th>\n",
       "      <th>5%</th>\n",
       "    </tr>\n",
       "  </thead>\n",
       "  <tbody>\n",
       "    <tr>\n",
       "      <td>A</td>\n",
       "      <td>18.565622</td>\n",
       "      <td>0.787</td>\n",
       "      <td>False</td>\n",
       "    </tr>\n",
       "    <tr>\n",
       "      <td>B</td>\n",
       "      <td>22.819918</td>\n",
       "      <td>0.786</td>\n",
       "      <td>False</td>\n",
       "    </tr>\n",
       "    <tr>\n",
       "      <td>C</td>\n",
       "      <td>1.088447</td>\n",
       "      <td>0.778</td>\n",
       "      <td>False</td>\n",
       "    </tr>\n",
       "    <tr>\n",
       "      <td>D</td>\n",
       "      <td>48.948224</td>\n",
       "      <td>0.786</td>\n",
       "      <td>False</td>\n",
       "    </tr>\n",
       "    <tr>\n",
       "      <td>E</td>\n",
       "      <td>66.462222</td>\n",
       "      <td>0.787</td>\n",
       "      <td>False</td>\n",
       "    </tr>\n",
       "    <tr>\n",
       "      <td>F</td>\n",
       "      <td>59.862141</td>\n",
       "      <td>0.787</td>\n",
       "      <td>False</td>\n",
       "    </tr>\n",
       "    <tr>\n",
       "      <td>G</td>\n",
       "      <td>54.110767</td>\n",
       "      <td>0.787</td>\n",
       "      <td>False</td>\n",
       "    </tr>\n",
       "    <tr>\n",
       "      <td>H</td>\n",
       "      <td>23.856050</td>\n",
       "      <td>0.786</td>\n",
       "      <td>False</td>\n",
       "    </tr>\n",
       "    <tr>\n",
       "      <td>I</td>\n",
       "      <td>132.255523</td>\n",
       "      <td>0.787</td>\n",
       "      <td>False</td>\n",
       "    </tr>\n",
       "    <tr>\n",
       "      <td>J</td>\n",
       "      <td>22.298854</td>\n",
       "      <td>0.787</td>\n",
       "      <td>False</td>\n",
       "    </tr>\n",
       "    <tr>\n",
       "      <td>K</td>\n",
       "      <td>48.688694</td>\n",
       "      <td>0.787</td>\n",
       "      <td>False</td>\n",
       "    </tr>\n",
       "    <tr>\n",
       "      <td>L</td>\n",
       "      <td>15.855929</td>\n",
       "      <td>0.785</td>\n",
       "      <td>False</td>\n",
       "    </tr>\n",
       "    <tr>\n",
       "      <td>M</td>\n",
       "      <td>12.854558</td>\n",
       "      <td>0.786</td>\n",
       "      <td>False</td>\n",
       "    </tr>\n",
       "    <tr>\n",
       "      <td>N</td>\n",
       "      <td>0.250482</td>\n",
       "      <td>-0.242</td>\n",
       "      <td>False</td>\n",
       "    </tr>\n",
       "    <tr>\n",
       "      <td>O</td>\n",
       "      <td>78.176217</td>\n",
       "      <td>0.787</td>\n",
       "      <td>False</td>\n",
       "    </tr>\n",
       "    <tr>\n",
       "      <td>P</td>\n",
       "      <td>14.101239</td>\n",
       "      <td>0.786</td>\n",
       "      <td>False</td>\n",
       "    </tr>\n",
       "    <tr>\n",
       "      <td>Q</td>\n",
       "      <td>9.049842</td>\n",
       "      <td>0.785</td>\n",
       "      <td>False</td>\n",
       "    </tr>\n",
       "    <tr>\n",
       "      <td>R</td>\n",
       "      <td>37.752573</td>\n",
       "      <td>0.786</td>\n",
       "      <td>False</td>\n",
       "    </tr>\n",
       "    <tr>\n",
       "      <td>S</td>\n",
       "      <td>8.703197</td>\n",
       "      <td>0.781</td>\n",
       "      <td>False</td>\n",
       "    </tr>\n",
       "    <tr>\n",
       "      <td>T</td>\n",
       "      <td>17.645185</td>\n",
       "      <td>0.784</td>\n",
       "      <td>False</td>\n",
       "    </tr>\n",
       "    <tr>\n",
       "      <td>U</td>\n",
       "      <td>0.851602</td>\n",
       "      <td>0.769</td>\n",
       "      <td>False</td>\n",
       "    </tr>\n",
       "  </tbody>\n",
       "</table>\n",
       "</div>"
      ],
      "text/plain": [
       "         Stat  Critical Value     5%\n",
       "A   18.565622           0.787  False\n",
       "B   22.819918           0.786  False\n",
       "C    1.088447           0.778  False\n",
       "D   48.948224           0.786  False\n",
       "E   66.462222           0.787  False\n",
       "F   59.862141           0.787  False\n",
       "G   54.110767           0.787  False\n",
       "H   23.856050           0.786  False\n",
       "I  132.255523           0.787  False\n",
       "J   22.298854           0.787  False\n",
       "K   48.688694           0.787  False\n",
       "L   15.855929           0.785  False\n",
       "M   12.854558           0.786  False\n",
       "N    0.250482          -0.242  False\n",
       "O   78.176217           0.787  False\n",
       "P   14.101239           0.786  False\n",
       "Q    9.049842           0.785  False\n",
       "R   37.752573           0.786  False\n",
       "S    8.703197           0.781  False\n",
       "T   17.645185           0.784  False\n",
       "U    0.851602           0.769  False"
      ]
     },
     "execution_count": 75,
     "metadata": {},
     "output_type": "execute_result"
    }
   ],
   "source": [
    "normality_anderson_test('province','loan_amount',df_stat)"
   ]
  },
  {
   "cell_type": "markdown",
   "metadata": {},
   "source": [
    ">Because data seems not normal and there are more than 2 groups of data. We will use mannwhitneyu with kruskal and significance level = 0.05:\n",
    "- H0 : There are no differences on Loan Amount based on Province.\n",
    "- H1 : There are differences on Loan Amount based on Province."
   ]
  },
  {
   "cell_type": "code",
   "execution_count": 76,
   "metadata": {
    "scrolled": true
   },
   "outputs": [],
   "source": [
    "from pingouin import kruskal"
   ]
  },
  {
   "cell_type": "code",
   "execution_count": 77,
   "metadata": {},
   "outputs": [
    {
     "data": {
      "text/html": [
       "<div>\n",
       "<style scoped>\n",
       "    .dataframe tbody tr th:only-of-type {\n",
       "        vertical-align: middle;\n",
       "    }\n",
       "\n",
       "    .dataframe tbody tr th {\n",
       "        vertical-align: top;\n",
       "    }\n",
       "\n",
       "    .dataframe thead th {\n",
       "        text-align: right;\n",
       "    }\n",
       "</style>\n",
       "<table border=\"1\" class=\"dataframe\">\n",
       "  <thead>\n",
       "    <tr style=\"text-align: right;\">\n",
       "      <th></th>\n",
       "      <th>Source</th>\n",
       "      <th>ddof1</th>\n",
       "      <th>H</th>\n",
       "      <th>p-unc</th>\n",
       "    </tr>\n",
       "  </thead>\n",
       "  <tbody>\n",
       "    <tr>\n",
       "      <td>Kruskal</td>\n",
       "      <td>province</td>\n",
       "      <td>20</td>\n",
       "      <td>15541.082</td>\n",
       "      <td>0.0</td>\n",
       "    </tr>\n",
       "  </tbody>\n",
       "</table>\n",
       "</div>"
      ],
      "text/plain": [
       "           Source  ddof1          H  p-unc\n",
       "Kruskal  province     20  15541.082    0.0"
      ]
     },
     "execution_count": 77,
     "metadata": {},
     "output_type": "execute_result"
    }
   ],
   "source": [
    "kruskal(data=df_stat, dv='loan_amount', between='province')"
   ]
  },
  {
   "cell_type": "markdown",
   "metadata": {},
   "source": [
    "> p-unc < 0.05 which means we rejects H0."
   ]
  },
  {
   "cell_type": "code",
   "execution_count": 78,
   "metadata": {
    "scrolled": false
   },
   "outputs": [
    {
     "name": "stderr",
     "output_type": "stream",
     "text": [
      "C:\\Users\\Alvin\\Anaconda3\\lib\\site-packages\\outdated\\utils.py:18: OutdatedPackageWarning: The package pingouin is out of date. Your version is 0.3.3, the latest is 0.3.4.\n",
      "Set the environment variable OUTDATED_IGNORE=1 to disable these warnings.\n",
      "  **kwargs\n"
     ]
    },
    {
     "data": {
      "image/png": "[encoded data removed]",
      "text/plain": [
       "<Figure size 864x504 with 2 Axes>"
      ]
     },
     "metadata": {},
     "output_type": "display_data"
    }
   ],
   "source": [
    "df_province = df_stat.groupby(by='province').describe()['loan_amount']['mean']\n",
    "df_province = pd.DataFrame(zip(df_province.index,df_province.values),\n",
    "                           columns=['province','loan_amount'])\n",
    "df_province['Yrows'] = [1,1,1,1,1,1,1,2,2,2,2,2,2,2,3,3,3,3,3,3,3]\n",
    "df_province['Xcols'] = [1,2,3,4,5,6,7,1,2,3,4,5,6,7,1,2,3,4,5,6,7]\n",
    "province = ((np.asarray(df_province['province'])).reshape(3,7))\n",
    "loan = ((np.asarray(df_province['loan_amount'])).reshape(3,7))\n",
    "result = df_province.pivot(index='Yrows',columns='Xcols',values='loan_amount')\n",
    "labels = (np.asarray([\"{0} \\n {1:.2f}\".format(i,j) for i,j in zip(province.flatten(),loan.flatten())])).reshape(3,7)\n",
    "\n",
    "fig,ax = plt.subplots(figsize=(12,7))\n",
    "title='heatmap'\n",
    "plt.title(title,fontsize=18)\n",
    "ttl = ax.title\n",
    "ttl.set_position([0.5,1.05])\n",
    "ax.set_xticks([])\n",
    "ax.set_yticks([])\n",
    "ax.axis('off')\n",
    "\n",
    "sns.heatmap(result, annot=labels,fmt='',cmap='RdYlGn',linewidths=0.3,ax=ax)\n",
    "plt.show()"
   ]
  },
  {
   "cell_type": "markdown",
   "metadata": {},
   "source": [
    "<b>Conclussion :</b>\n",
    "- I assume The best model we found is good enough to predict loan default that results return value approximately 1.\n",
    "- The company should add interest about 2%.\n",
    "- The company need to upgraded loan market on Province D, F, L because they are produced high amount of loan.\n",
    "- The company also need to expand market to Province G because they are most no default customer province and big ratio of no default customer. \n",
    "- On Province J, they need to campaign to people who older than 45 and/or has typical for contract type A or history type A\n",
    "- Start Massive Campign on Province N"
   ]
  },
  {
   "cell_type": "markdown",
   "metadata": {},
   "source": [
    "## Dashboard Preparation"
   ]
  },
  {
   "cell_type": "code",
   "execution_count": 79,
   "metadata": {},
   "outputs": [],
   "source": [
    "import pickle"
   ]
  },
  {
   "cell_type": "code",
   "execution_count": 80,
   "metadata": {},
   "outputs": [],
   "source": [
    "filename = 'finalized_model.sav'\n",
    "pickle.dump(rfc3, open(filename, 'wb'))"
   ]
  },
  {
   "cell_type": "code",
   "execution_count": 81,
   "metadata": {},
   "outputs": [],
   "source": [
    "filename = 'dummies_column.sav'\n",
    "pickle.dump(df_learn.columns, open(filename , 'wb'))"
   ]
  },
  {
   "cell_type": "code",
   "execution_count": 82,
   "metadata": {},
   "outputs": [],
   "source": [
    "filename = 'real_column.sav'\n",
    "pickle.dump(df.drop(['user_id','birth_date','Status'],axis=1).columns, open(filename , 'wb'))"
   ]
  },
  {
   "cell_type": "code",
   "execution_count": 83,
   "metadata": {},
   "outputs": [],
   "source": [
    "df_clean = df.drop(['birth_date'],axis=1)\n",
    "df_clean['family_size'] = df_clean['family_size'].astype(int)\n",
    "df_clean['age'] = df_clean['age'].astype(int)\n",
    "df_clean['monthly_expense'] = df_clean['monthly_expense'].astype(int)\n",
    "df_clean['loan_amount'] = df_clean['loan_amount'].astype(int)\n",
    "df_clean['Status'] = df['Status'].apply(lambda x : 'Not Default' if x == 0 else 'Default')\n",
    "df_clean.columns= ['User Id','Family Size','Contract Type','Sex','Province','Age','Group','History Type','Monthly Expense',\n",
    "                   'Loan Amount','Status']\n",
    "df_clean.to_csv('clean.csv', index=False)"
   ]
  },
  {
   "cell_type": "code",
   "execution_count": null,
   "metadata": {},
   "outputs": [],
   "source": []
  }
 ],
 "metadata": {
  "kernelspec": {
   "display_name": "Python 3",
   "language": "python",
   "name": "python3"
  },
  "language_info": {
   "codemirror_mode": {
    "name": "ipython",
    "version": 3
   },
   "file_extension": ".py",
   "mimetype": "text/x-python",
   "name": "python",
   "nbconvert_exporter": "python",
   "pygments_lexer": "ipython3",
   "version": "3.7.4"
  }
 },
 "nbformat": 4,
 "nbformat_minor": 2
}
